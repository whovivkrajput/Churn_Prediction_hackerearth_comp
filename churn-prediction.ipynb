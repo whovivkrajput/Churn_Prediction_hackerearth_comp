{
 "cells": [
  {
   "cell_type": "code",
   "execution_count": 1,
   "id": "partial-screw",
   "metadata": {
    "_cell_guid": "b1076dfc-b9ad-4769-8c92-a6c4dae69d19",
    "_uuid": "8f2839f25d086af736a60e9eeb907d3b93b6e0e5",
    "execution": {
     "iopub.execute_input": "2021-05-06T08:52:39.470069Z",
     "iopub.status.busy": "2021-05-06T08:52:39.469345Z",
     "iopub.status.idle": "2021-05-06T08:52:40.588944Z",
     "shell.execute_reply": "2021-05-06T08:52:40.589547Z"
    },
    "papermill": {
     "duration": 1.178955,
     "end_time": "2021-05-06T08:52:40.589893",
     "exception": false,
     "start_time": "2021-05-06T08:52:39.410938",
     "status": "completed"
    },
    "tags": []
   },
   "outputs": [
    {
     "name": "stdout",
     "output_type": "stream",
     "text": [
      "/kaggle/input/hackerearth-how-not-to-lose-a-customer-in-10-days/sample_submission.csv\n",
      "/kaggle/input/hackerearth-how-not-to-lose-a-customer-in-10-days/train.csv\n",
      "/kaggle/input/hackerearth-how-not-to-lose-a-customer-in-10-days/test.csv\n"
     ]
    }
   ],
   "source": [
    "# This Python 3 environment comes with many helpful analytics libraries installed\n",
    "# It is defined by the kaggle/python Docker image: https://github.com/kaggle/docker-python\n",
    "# For example, here's several helpful packages to load\n",
    "\n",
    "import numpy as np # linear algebra\n",
    "import pandas as pd # data processing, CSV file I/O (e.g. pd.read_csv)\n",
    "import seaborn as sns\n",
    "import matplotlib.pyplot as plt\n",
    "%matplotlib inline\n",
    "import warnings\n",
    "warnings.filterwarnings('ignore')\n",
    "\n",
    "# Input data files are available in the read-only \"../input/\" directory\n",
    "# For example, running this (by clicking run or pressing Shift+Enter) will list all files under the input directory\n",
    "\n",
    "import os\n",
    "for dirname, _, filenames in os.walk('/kaggle/input'):\n",
    "    for filename in filenames:\n",
    "        print(os.path.join(dirname, filename))\n",
    "\n",
    "# You can write up to 20GB to the current directory (/kaggle/working/) that gets preserved as output when you create a version using \"Save & Run All\" \n",
    "# You can also write temporary files to /kaggle/temp/, but they won't be saved outside of the current session"
   ]
  },
  {
   "cell_type": "markdown",
   "id": "prospective-rider",
   "metadata": {
    "papermill": {
     "duration": 0.044788,
     "end_time": "2021-05-06T08:52:40.680966",
     "exception": false,
     "start_time": "2021-05-06T08:52:40.636178",
     "status": "completed"
    },
    "tags": []
   },
   "source": [
    "### Reading data:"
   ]
  },
  {
   "cell_type": "code",
   "execution_count": 2,
   "id": "meaningful-ensemble",
   "metadata": {
    "execution": {
     "iopub.execute_input": "2021-05-06T08:52:40.779076Z",
     "iopub.status.busy": "2021-05-06T08:52:40.778314Z",
     "iopub.status.idle": "2021-05-06T08:52:41.698878Z",
     "shell.execute_reply": "2021-05-06T08:52:41.698043Z"
    },
    "papermill": {
     "duration": 0.973131,
     "end_time": "2021-05-06T08:52:41.699057",
     "exception": false,
     "start_time": "2021-05-06T08:52:40.725926",
     "status": "completed"
    },
    "tags": []
   },
   "outputs": [
    {
     "name": "stdout",
     "output_type": "stream",
     "text": [
      "Shape of train: (36992, 25)\n",
      "Shape of train after droping duplicates: (36992, 25)\n",
      "Shape of test data: (19919, 24)\n"
     ]
    },
    {
     "data": {
      "text/html": [
       "<div>\n",
       "<style scoped>\n",
       "    .dataframe tbody tr th:only-of-type {\n",
       "        vertical-align: middle;\n",
       "    }\n",
       "\n",
       "    .dataframe tbody tr th {\n",
       "        vertical-align: top;\n",
       "    }\n",
       "\n",
       "    .dataframe thead th {\n",
       "        text-align: right;\n",
       "    }\n",
       "</style>\n",
       "<table border=\"1\" class=\"dataframe\">\n",
       "  <thead>\n",
       "    <tr style=\"text-align: right;\">\n",
       "      <th></th>\n",
       "      <th>customer_id</th>\n",
       "      <th>Name</th>\n",
       "      <th>age</th>\n",
       "      <th>gender</th>\n",
       "      <th>security_no</th>\n",
       "      <th>region_category</th>\n",
       "      <th>membership_category</th>\n",
       "      <th>joining_date</th>\n",
       "      <th>joined_through_referral</th>\n",
       "      <th>referral_id</th>\n",
       "      <th>...</th>\n",
       "      <th>avg_time_spent</th>\n",
       "      <th>avg_transaction_value</th>\n",
       "      <th>avg_frequency_login_days</th>\n",
       "      <th>points_in_wallet</th>\n",
       "      <th>used_special_discount</th>\n",
       "      <th>offer_application_preference</th>\n",
       "      <th>past_complaint</th>\n",
       "      <th>complaint_status</th>\n",
       "      <th>feedback</th>\n",
       "      <th>churn_risk_score</th>\n",
       "    </tr>\n",
       "  </thead>\n",
       "  <tbody>\n",
       "    <tr>\n",
       "      <th>0</th>\n",
       "      <td>fffe4300490044003600300030003800</td>\n",
       "      <td>Pattie Morrisey</td>\n",
       "      <td>18</td>\n",
       "      <td>F</td>\n",
       "      <td>XW0DQ7H</td>\n",
       "      <td>Village</td>\n",
       "      <td>Platinum Membership</td>\n",
       "      <td>2017-08-17</td>\n",
       "      <td>No</td>\n",
       "      <td>xxxxxxxx</td>\n",
       "      <td>...</td>\n",
       "      <td>300.63</td>\n",
       "      <td>53005.25</td>\n",
       "      <td>17.0</td>\n",
       "      <td>781.75</td>\n",
       "      <td>Yes</td>\n",
       "      <td>Yes</td>\n",
       "      <td>No</td>\n",
       "      <td>Not Applicable</td>\n",
       "      <td>Products always in Stock</td>\n",
       "      <td>2</td>\n",
       "    </tr>\n",
       "    <tr>\n",
       "      <th>1</th>\n",
       "      <td>fffe43004900440032003100300035003700</td>\n",
       "      <td>Traci Peery</td>\n",
       "      <td>32</td>\n",
       "      <td>F</td>\n",
       "      <td>5K0N3X1</td>\n",
       "      <td>City</td>\n",
       "      <td>Premium Membership</td>\n",
       "      <td>2017-08-28</td>\n",
       "      <td>?</td>\n",
       "      <td>CID21329</td>\n",
       "      <td>...</td>\n",
       "      <td>306.34</td>\n",
       "      <td>12838.38</td>\n",
       "      <td>10.0</td>\n",
       "      <td>NaN</td>\n",
       "      <td>Yes</td>\n",
       "      <td>No</td>\n",
       "      <td>Yes</td>\n",
       "      <td>Solved</td>\n",
       "      <td>Quality Customer Care</td>\n",
       "      <td>1</td>\n",
       "    </tr>\n",
       "    <tr>\n",
       "      <th>2</th>\n",
       "      <td>fffe4300490044003100390032003600</td>\n",
       "      <td>Merideth Mcmeen</td>\n",
       "      <td>44</td>\n",
       "      <td>F</td>\n",
       "      <td>1F2TCL3</td>\n",
       "      <td>Town</td>\n",
       "      <td>No Membership</td>\n",
       "      <td>2016-11-11</td>\n",
       "      <td>Yes</td>\n",
       "      <td>CID12313</td>\n",
       "      <td>...</td>\n",
       "      <td>516.16</td>\n",
       "      <td>21027.00</td>\n",
       "      <td>22.0</td>\n",
       "      <td>500.69</td>\n",
       "      <td>No</td>\n",
       "      <td>Yes</td>\n",
       "      <td>Yes</td>\n",
       "      <td>Solved in Follow-up</td>\n",
       "      <td>Poor Website</td>\n",
       "      <td>5</td>\n",
       "    </tr>\n",
       "    <tr>\n",
       "      <th>3</th>\n",
       "      <td>fffe43004900440036003000330031003600</td>\n",
       "      <td>Eufemia Cardwell</td>\n",
       "      <td>37</td>\n",
       "      <td>M</td>\n",
       "      <td>VJGJ33N</td>\n",
       "      <td>City</td>\n",
       "      <td>No Membership</td>\n",
       "      <td>2016-10-29</td>\n",
       "      <td>Yes</td>\n",
       "      <td>CID3793</td>\n",
       "      <td>...</td>\n",
       "      <td>53.27</td>\n",
       "      <td>25239.56</td>\n",
       "      <td>6.0</td>\n",
       "      <td>567.66</td>\n",
       "      <td>No</td>\n",
       "      <td>Yes</td>\n",
       "      <td>Yes</td>\n",
       "      <td>Unsolved</td>\n",
       "      <td>Poor Website</td>\n",
       "      <td>5</td>\n",
       "    </tr>\n",
       "    <tr>\n",
       "      <th>4</th>\n",
       "      <td>fffe43004900440031003900350030003600</td>\n",
       "      <td>Meghan Kosak</td>\n",
       "      <td>31</td>\n",
       "      <td>F</td>\n",
       "      <td>SVZXCWB</td>\n",
       "      <td>City</td>\n",
       "      <td>No Membership</td>\n",
       "      <td>2017-09-12</td>\n",
       "      <td>No</td>\n",
       "      <td>xxxxxxxx</td>\n",
       "      <td>...</td>\n",
       "      <td>113.13</td>\n",
       "      <td>24483.66</td>\n",
       "      <td>16.0</td>\n",
       "      <td>663.06</td>\n",
       "      <td>No</td>\n",
       "      <td>Yes</td>\n",
       "      <td>Yes</td>\n",
       "      <td>Solved</td>\n",
       "      <td>Poor Website</td>\n",
       "      <td>5</td>\n",
       "    </tr>\n",
       "  </tbody>\n",
       "</table>\n",
       "<p>5 rows × 25 columns</p>\n",
       "</div>"
      ],
      "text/plain": [
       "                            customer_id              Name  age gender  \\\n",
       "0      fffe4300490044003600300030003800   Pattie Morrisey   18      F   \n",
       "1  fffe43004900440032003100300035003700       Traci Peery   32      F   \n",
       "2      fffe4300490044003100390032003600   Merideth Mcmeen   44      F   \n",
       "3  fffe43004900440036003000330031003600  Eufemia Cardwell   37      M   \n",
       "4  fffe43004900440031003900350030003600      Meghan Kosak   31      F   \n",
       "\n",
       "  security_no region_category  membership_category joining_date  \\\n",
       "0     XW0DQ7H         Village  Platinum Membership   2017-08-17   \n",
       "1     5K0N3X1            City   Premium Membership   2017-08-28   \n",
       "2     1F2TCL3            Town        No Membership   2016-11-11   \n",
       "3     VJGJ33N            City        No Membership   2016-10-29   \n",
       "4     SVZXCWB            City        No Membership   2017-09-12   \n",
       "\n",
       "  joined_through_referral referral_id  ... avg_time_spent  \\\n",
       "0                      No    xxxxxxxx  ...         300.63   \n",
       "1                       ?    CID21329  ...         306.34   \n",
       "2                     Yes    CID12313  ...         516.16   \n",
       "3                     Yes     CID3793  ...          53.27   \n",
       "4                      No    xxxxxxxx  ...         113.13   \n",
       "\n",
       "  avg_transaction_value avg_frequency_login_days points_in_wallet  \\\n",
       "0              53005.25                     17.0           781.75   \n",
       "1              12838.38                     10.0              NaN   \n",
       "2              21027.00                     22.0           500.69   \n",
       "3              25239.56                      6.0           567.66   \n",
       "4              24483.66                     16.0           663.06   \n",
       "\n",
       "   used_special_discount  offer_application_preference  past_complaint  \\\n",
       "0                    Yes                           Yes              No   \n",
       "1                    Yes                            No             Yes   \n",
       "2                     No                           Yes             Yes   \n",
       "3                     No                           Yes             Yes   \n",
       "4                     No                           Yes             Yes   \n",
       "\n",
       "      complaint_status                  feedback churn_risk_score  \n",
       "0       Not Applicable  Products always in Stock                2  \n",
       "1               Solved     Quality Customer Care                1  \n",
       "2  Solved in Follow-up              Poor Website                5  \n",
       "3             Unsolved              Poor Website                5  \n",
       "4               Solved              Poor Website                5  \n",
       "\n",
       "[5 rows x 25 columns]"
      ]
     },
     "execution_count": 2,
     "metadata": {},
     "output_type": "execute_result"
    }
   ],
   "source": [
    "train_data = pd.read_csv(\"../input/hackerearth-how-not-to-lose-a-customer-in-10-days/train.csv\")\n",
    "x_test = pd.read_csv(\"../input/hackerearth-how-not-to-lose-a-customer-in-10-days/test.csv\")\n",
    "ds_subm = pd.DataFrame(x_test['customer_id'])\n",
    "print( \"Shape of train:\", train_data.shape)\n",
    "train_data = train_data.drop_duplicates()\n",
    "print( \"Shape of train after droping duplicates:\", train_data.shape)\n",
    "print(\"Shape of test data:\", x_test.shape)\n",
    "\n",
    "#printing the data\n",
    "train_data.head()"
   ]
  },
  {
   "cell_type": "code",
   "execution_count": 3,
   "id": "elect-establishment",
   "metadata": {
    "execution": {
     "iopub.execute_input": "2021-05-06T08:52:41.826683Z",
     "iopub.status.busy": "2021-05-06T08:52:41.825973Z",
     "iopub.status.idle": "2021-05-06T08:52:41.831039Z",
     "shell.execute_reply": "2021-05-06T08:52:41.830509Z"
    },
    "papermill": {
     "duration": 0.085038,
     "end_time": "2021-05-06T08:52:41.831197",
     "exception": false,
     "start_time": "2021-05-06T08:52:41.746159",
     "status": "completed"
    },
    "tags": []
   },
   "outputs": [
    {
     "data": {
      "text/html": [
       "<div>\n",
       "<style scoped>\n",
       "    .dataframe tbody tr th:only-of-type {\n",
       "        vertical-align: middle;\n",
       "    }\n",
       "\n",
       "    .dataframe tbody tr th {\n",
       "        vertical-align: top;\n",
       "    }\n",
       "\n",
       "    .dataframe thead th {\n",
       "        text-align: right;\n",
       "    }\n",
       "</style>\n",
       "<table border=\"1\" class=\"dataframe\">\n",
       "  <thead>\n",
       "    <tr style=\"text-align: right;\">\n",
       "      <th></th>\n",
       "      <th>customer_id</th>\n",
       "      <th>Name</th>\n",
       "      <th>age</th>\n",
       "      <th>gender</th>\n",
       "      <th>security_no</th>\n",
       "      <th>region_category</th>\n",
       "      <th>membership_category</th>\n",
       "      <th>joining_date</th>\n",
       "      <th>joined_through_referral</th>\n",
       "      <th>referral_id</th>\n",
       "      <th>...</th>\n",
       "      <th>days_since_last_login</th>\n",
       "      <th>avg_time_spent</th>\n",
       "      <th>avg_transaction_value</th>\n",
       "      <th>avg_frequency_login_days</th>\n",
       "      <th>points_in_wallet</th>\n",
       "      <th>used_special_discount</th>\n",
       "      <th>offer_application_preference</th>\n",
       "      <th>past_complaint</th>\n",
       "      <th>complaint_status</th>\n",
       "      <th>feedback</th>\n",
       "    </tr>\n",
       "  </thead>\n",
       "  <tbody>\n",
       "    <tr>\n",
       "      <th>0</th>\n",
       "      <td>fffe43004900440031003700300030003400</td>\n",
       "      <td>Alethia Meints</td>\n",
       "      <td>50</td>\n",
       "      <td>F</td>\n",
       "      <td>OQJ1XAY</td>\n",
       "      <td>Village</td>\n",
       "      <td>Premium Membership</td>\n",
       "      <td>2015-11-02</td>\n",
       "      <td>No</td>\n",
       "      <td>xxxxxxxx</td>\n",
       "      <td>...</td>\n",
       "      <td>12</td>\n",
       "      <td>386.26</td>\n",
       "      <td>40721.44</td>\n",
       "      <td>7.0</td>\n",
       "      <td>733.830000</td>\n",
       "      <td>Yes</td>\n",
       "      <td>No</td>\n",
       "      <td>No</td>\n",
       "      <td>Not Applicable</td>\n",
       "      <td>Poor Product Quality</td>\n",
       "    </tr>\n",
       "    <tr>\n",
       "      <th>1</th>\n",
       "      <td>fffe43004900440031003900370037003300</td>\n",
       "      <td>Ming Lopez</td>\n",
       "      <td>41</td>\n",
       "      <td>M</td>\n",
       "      <td>OUQRPKO</td>\n",
       "      <td>Village</td>\n",
       "      <td>Gold Membership</td>\n",
       "      <td>2016-03-01</td>\n",
       "      <td>No</td>\n",
       "      <td>xxxxxxxx</td>\n",
       "      <td>...</td>\n",
       "      <td>11</td>\n",
       "      <td>37.80</td>\n",
       "      <td>9644.40</td>\n",
       "      <td>9.0</td>\n",
       "      <td>726.000000</td>\n",
       "      <td>Yes</td>\n",
       "      <td>No</td>\n",
       "      <td>No</td>\n",
       "      <td>Not Applicable</td>\n",
       "      <td>Poor Website</td>\n",
       "    </tr>\n",
       "    <tr>\n",
       "      <th>2</th>\n",
       "      <td>fffe43004900440034003800360037003000</td>\n",
       "      <td>Carina Flannigan</td>\n",
       "      <td>31</td>\n",
       "      <td>F</td>\n",
       "      <td>02J2RE7</td>\n",
       "      <td>Town</td>\n",
       "      <td>Silver Membership</td>\n",
       "      <td>2017-03-03</td>\n",
       "      <td>No</td>\n",
       "      <td>xxxxxxxx</td>\n",
       "      <td>...</td>\n",
       "      <td>18</td>\n",
       "      <td>215.36</td>\n",
       "      <td>3693.25</td>\n",
       "      <td>21.0</td>\n",
       "      <td>713.780000</td>\n",
       "      <td>Yes</td>\n",
       "      <td>No</td>\n",
       "      <td>Yes</td>\n",
       "      <td>Solved in Follow-up</td>\n",
       "      <td>No reason specified</td>\n",
       "    </tr>\n",
       "    <tr>\n",
       "      <th>3</th>\n",
       "      <td>fffe43004900440036003200370033003400</td>\n",
       "      <td>Kyung Wanner</td>\n",
       "      <td>64</td>\n",
       "      <td>M</td>\n",
       "      <td>5YEQIF1</td>\n",
       "      <td>Town</td>\n",
       "      <td>Silver Membership</td>\n",
       "      <td>2017-08-18</td>\n",
       "      <td>Yes</td>\n",
       "      <td>CID8941</td>\n",
       "      <td>...</td>\n",
       "      <td>-999</td>\n",
       "      <td>44.57</td>\n",
       "      <td>36809.56</td>\n",
       "      <td>11.0</td>\n",
       "      <td>744.970000</td>\n",
       "      <td>Yes</td>\n",
       "      <td>No</td>\n",
       "      <td>Yes</td>\n",
       "      <td>No Information Available</td>\n",
       "      <td>Too many ads</td>\n",
       "    </tr>\n",
       "    <tr>\n",
       "      <th>4</th>\n",
       "      <td>fffe43004900440035003000370031003900</td>\n",
       "      <td>Enola Gatto</td>\n",
       "      <td>16</td>\n",
       "      <td>F</td>\n",
       "      <td>100RYB5</td>\n",
       "      <td>Town</td>\n",
       "      <td>No Membership</td>\n",
       "      <td>2015-05-05</td>\n",
       "      <td>Yes</td>\n",
       "      <td>CID5690</td>\n",
       "      <td>...</td>\n",
       "      <td>6</td>\n",
       "      <td>349.88</td>\n",
       "      <td>40675.86</td>\n",
       "      <td>8.0</td>\n",
       "      <td>299.048351</td>\n",
       "      <td>No</td>\n",
       "      <td>Yes</td>\n",
       "      <td>Yes</td>\n",
       "      <td>Solved in Follow-up</td>\n",
       "      <td>Poor Website</td>\n",
       "    </tr>\n",
       "  </tbody>\n",
       "</table>\n",
       "<p>5 rows × 24 columns</p>\n",
       "</div>"
      ],
      "text/plain": [
       "                            customer_id              Name  age gender  \\\n",
       "0  fffe43004900440031003700300030003400    Alethia Meints   50      F   \n",
       "1  fffe43004900440031003900370037003300        Ming Lopez   41      M   \n",
       "2  fffe43004900440034003800360037003000  Carina Flannigan   31      F   \n",
       "3  fffe43004900440036003200370033003400      Kyung Wanner   64      M   \n",
       "4  fffe43004900440035003000370031003900       Enola Gatto   16      F   \n",
       "\n",
       "  security_no region_category membership_category joining_date  \\\n",
       "0     OQJ1XAY         Village  Premium Membership   2015-11-02   \n",
       "1     OUQRPKO         Village     Gold Membership   2016-03-01   \n",
       "2     02J2RE7            Town   Silver Membership   2017-03-03   \n",
       "3     5YEQIF1            Town   Silver Membership   2017-08-18   \n",
       "4     100RYB5            Town       No Membership   2015-05-05   \n",
       "\n",
       "  joined_through_referral referral_id  ... days_since_last_login  \\\n",
       "0                      No    xxxxxxxx  ...                    12   \n",
       "1                      No    xxxxxxxx  ...                    11   \n",
       "2                      No    xxxxxxxx  ...                    18   \n",
       "3                     Yes     CID8941  ...                  -999   \n",
       "4                     Yes     CID5690  ...                     6   \n",
       "\n",
       "  avg_time_spent avg_transaction_value avg_frequency_login_days  \\\n",
       "0         386.26              40721.44                      7.0   \n",
       "1          37.80               9644.40                      9.0   \n",
       "2         215.36               3693.25                     21.0   \n",
       "3          44.57              36809.56                     11.0   \n",
       "4         349.88              40675.86                      8.0   \n",
       "\n",
       "   points_in_wallet  used_special_discount  offer_application_preference  \\\n",
       "0        733.830000                    Yes                            No   \n",
       "1        726.000000                    Yes                            No   \n",
       "2        713.780000                    Yes                            No   \n",
       "3        744.970000                    Yes                            No   \n",
       "4        299.048351                     No                           Yes   \n",
       "\n",
       "  past_complaint          complaint_status              feedback  \n",
       "0             No            Not Applicable  Poor Product Quality  \n",
       "1             No            Not Applicable          Poor Website  \n",
       "2            Yes       Solved in Follow-up   No reason specified  \n",
       "3            Yes  No Information Available          Too many ads  \n",
       "4            Yes       Solved in Follow-up          Poor Website  \n",
       "\n",
       "[5 rows x 24 columns]"
      ]
     },
     "execution_count": 3,
     "metadata": {},
     "output_type": "execute_result"
    }
   ],
   "source": [
    "x_test.head()"
   ]
  },
  {
   "cell_type": "markdown",
   "id": "following-bulgarian",
   "metadata": {
    "papermill": {
     "duration": 0.047946,
     "end_time": "2021-05-06T08:52:41.927118",
     "exception": false,
     "start_time": "2021-05-06T08:52:41.879172",
     "status": "completed"
    },
    "tags": []
   },
   "source": [
    "### Looking at the distribution of Target variable:\n"
   ]
  },
  {
   "cell_type": "code",
   "execution_count": 4,
   "id": "arbitrary-bruce",
   "metadata": {
    "execution": {
     "iopub.execute_input": "2021-05-06T08:52:42.029680Z",
     "iopub.status.busy": "2021-05-06T08:52:42.028798Z",
     "iopub.status.idle": "2021-05-06T08:52:42.254516Z",
     "shell.execute_reply": "2021-05-06T08:52:42.253819Z"
    },
    "papermill": {
     "duration": 0.280185,
     "end_time": "2021-05-06T08:52:42.254670",
     "exception": false,
     "start_time": "2021-05-06T08:52:41.974485",
     "status": "completed"
    },
    "tags": []
   },
   "outputs": [
    {
     "data": {
      "text/plain": [
       "<AxesSubplot:>"
      ]
     },
     "execution_count": 4,
     "metadata": {},
     "output_type": "execute_result"
    },
    {
     "data": {
      "image/png": "[encoded data removed]",
      "text/plain": [
       "<Figure size 432x288 with 1 Axes>"
      ]
     },
     "metadata": {
      "needs_background": "light"
     },
     "output_type": "display_data"
    }
   ],
   "source": [
    "train_data['churn_risk_score'].hist()\n",
    "## We are good to go. There are sufficient number of rows for each type of values to learn from."
   ]
  },
  {
   "cell_type": "markdown",
   "id": "transsexual-genius",
   "metadata": {
    "papermill": {
     "duration": 0.048308,
     "end_time": "2021-05-06T08:52:42.351516",
     "exception": false,
     "start_time": "2021-05-06T08:52:42.303208",
     "status": "completed"
    },
    "tags": []
   },
   "source": [
    "### Basic Data Exploration:"
   ]
  },
  {
   "cell_type": "code",
   "execution_count": 5,
   "id": "finnish-valve",
   "metadata": {
    "execution": {
     "iopub.execute_input": "2021-05-06T08:52:42.523747Z",
     "iopub.status.busy": "2021-05-06T08:52:42.454656Z",
     "iopub.status.idle": "2021-05-06T08:52:42.593803Z",
     "shell.execute_reply": "2021-05-06T08:52:42.593192Z"
    },
    "papermill": {
     "duration": 0.193913,
     "end_time": "2021-05-06T08:52:42.593954",
     "exception": false,
     "start_time": "2021-05-06T08:52:42.400041",
     "status": "completed"
    },
    "tags": []
   },
   "outputs": [
    {
     "name": "stdout",
     "output_type": "stream",
     "text": [
      "<class 'pandas.core.frame.DataFrame'>\n",
      "Int64Index: 36992 entries, 0 to 36991\n",
      "Data columns (total 25 columns):\n",
      " #   Column                        Non-Null Count  Dtype  \n",
      "---  ------                        --------------  -----  \n",
      " 0   customer_id                   36992 non-null  object \n",
      " 1   Name                          36992 non-null  object \n",
      " 2   age                           36992 non-null  int64  \n",
      " 3   gender                        36992 non-null  object \n",
      " 4   security_no                   36992 non-null  object \n",
      " 5   region_category               31564 non-null  object \n",
      " 6   membership_category           36992 non-null  object \n",
      " 7   joining_date                  36992 non-null  object \n",
      " 8   joined_through_referral       36992 non-null  object \n",
      " 9   referral_id                   36992 non-null  object \n",
      " 10  preferred_offer_types         36704 non-null  object \n",
      " 11  medium_of_operation           36992 non-null  object \n",
      " 12  internet_option               36992 non-null  object \n",
      " 13  last_visit_time               36992 non-null  object \n",
      " 14  days_since_last_login         36992 non-null  int64  \n",
      " 15  avg_time_spent                36992 non-null  float64\n",
      " 16  avg_transaction_value         36992 non-null  float64\n",
      " 17  avg_frequency_login_days      36992 non-null  object \n",
      " 18  points_in_wallet              33549 non-null  float64\n",
      " 19  used_special_discount         36992 non-null  object \n",
      " 20  offer_application_preference  36992 non-null  object \n",
      " 21  past_complaint                36992 non-null  object \n",
      " 22  complaint_status              36992 non-null  object \n",
      " 23  feedback                      36992 non-null  object \n",
      " 24  churn_risk_score              36992 non-null  int64  \n",
      "dtypes: float64(3), int64(3), object(19)\n",
      "memory usage: 7.3+ MB\n",
      "None\n",
      "\n",
      "\n",
      "<class 'pandas.core.frame.DataFrame'>\n",
      "RangeIndex: 19919 entries, 0 to 19918\n",
      "Data columns (total 24 columns):\n",
      " #   Column                        Non-Null Count  Dtype  \n",
      "---  ------                        --------------  -----  \n",
      " 0   customer_id                   19919 non-null  object \n",
      " 1   Name                          19919 non-null  object \n",
      " 2   age                           19919 non-null  int64  \n",
      " 3   gender                        19919 non-null  object \n",
      " 4   security_no                   19919 non-null  object \n",
      " 5   region_category               16971 non-null  object \n",
      " 6   membership_category           19919 non-null  object \n",
      " 7   joining_date                  19919 non-null  object \n",
      " 8   joined_through_referral       19919 non-null  object \n",
      " 9   referral_id                   19919 non-null  object \n",
      " 10  preferred_offer_types         19760 non-null  object \n",
      " 11  medium_of_operation           19919 non-null  object \n",
      " 12  internet_option               19919 non-null  object \n",
      " 13  last_visit_time               19919 non-null  object \n",
      " 14  days_since_last_login         19919 non-null  int64  \n",
      " 15  avg_time_spent                19919 non-null  float64\n",
      " 16  avg_transaction_value         19919 non-null  float64\n",
      " 17  avg_frequency_login_days      19919 non-null  object \n",
      " 18  points_in_wallet              17956 non-null  float64\n",
      " 19  used_special_discount         19919 non-null  object \n",
      " 20  offer_application_preference  19919 non-null  object \n",
      " 21  past_complaint                19919 non-null  object \n",
      " 22  complaint_status              19919 non-null  object \n",
      " 23  feedback                      19919 non-null  object \n",
      "dtypes: float64(3), int64(2), object(19)\n",
      "memory usage: 3.6+ MB\n",
      "None\n"
     ]
    }
   ],
   "source": [
    "print(train_data.info())\n",
    "print(\"\\n\")\n",
    "print(x_test.info())"
   ]
  },
  {
   "cell_type": "code",
   "execution_count": 6,
   "id": "bulgarian-tomorrow",
   "metadata": {
    "execution": {
     "iopub.execute_input": "2021-05-06T08:52:42.699682Z",
     "iopub.status.busy": "2021-05-06T08:52:42.698700Z",
     "iopub.status.idle": "2021-05-06T08:52:42.968948Z",
     "shell.execute_reply": "2021-05-06T08:52:42.968407Z"
    },
    "papermill": {
     "duration": 0.32575,
     "end_time": "2021-05-06T08:52:42.969123",
     "exception": false,
     "start_time": "2021-05-06T08:52:42.643373",
     "status": "completed"
    },
    "tags": []
   },
   "outputs": [
    {
     "name": "stdout",
     "output_type": "stream",
     "text": [
      "customer_id                     36992\n",
      "Name                            36992\n",
      "age                                55\n",
      "gender                              3\n",
      "security_no                     36992\n",
      "region_category                     3\n",
      "membership_category                 6\n",
      "joining_date                     1096\n",
      "joined_through_referral             3\n",
      "referral_id                     11359\n",
      "preferred_offer_types               3\n",
      "medium_of_operation                 4\n",
      "internet_option                     3\n",
      "last_visit_time                 30101\n",
      "days_since_last_login              27\n",
      "avg_time_spent                  25961\n",
      "avg_transaction_value           36894\n",
      "avg_frequency_login_days         1654\n",
      "points_in_wallet                23699\n",
      "used_special_discount               2\n",
      "offer_application_preference        2\n",
      "past_complaint                      2\n",
      "complaint_status                    5\n",
      "feedback                            9\n",
      "churn_risk_score                    6\n",
      "dtype: int64\n",
      "\n",
      "\n",
      "customer_id                     19919\n",
      "Name                            19919\n",
      "age                                55\n",
      "gender                              3\n",
      "security_no                     19919\n",
      "region_category                     3\n",
      "membership_category                 6\n",
      "joining_date                     1096\n",
      "joined_through_referral             3\n",
      "referral_id                      7603\n",
      "preferred_offer_types               3\n",
      "medium_of_operation                 4\n",
      "internet_option                     3\n",
      "last_visit_time                 17821\n",
      "days_since_last_login              27\n",
      "avg_time_spent                  15703\n",
      "avg_transaction_value           19883\n",
      "avg_frequency_login_days          946\n",
      "points_in_wallet                14581\n",
      "used_special_discount               2\n",
      "offer_application_preference        2\n",
      "past_complaint                      2\n",
      "complaint_status                    5\n",
      "feedback                            9\n",
      "dtype: int64\n"
     ]
    }
   ],
   "source": [
    "print(train_data.nunique())\n",
    "print('\\n')\n",
    "print(x_test.nunique())"
   ]
  },
  {
   "cell_type": "code",
   "execution_count": 7,
   "id": "false-testing",
   "metadata": {
    "execution": {
     "iopub.execute_input": "2021-05-06T08:52:43.080297Z",
     "iopub.status.busy": "2021-05-06T08:52:43.079534Z",
     "iopub.status.idle": "2021-05-06T08:52:43.118444Z",
     "shell.execute_reply": "2021-05-06T08:52:43.117781Z"
    },
    "papermill": {
     "duration": 0.098516,
     "end_time": "2021-05-06T08:52:43.118602",
     "exception": false,
     "start_time": "2021-05-06T08:52:43.020086",
     "status": "completed"
    },
    "tags": []
   },
   "outputs": [
    {
     "data": {
      "text/html": [
       "<div>\n",
       "<style scoped>\n",
       "    .dataframe tbody tr th:only-of-type {\n",
       "        vertical-align: middle;\n",
       "    }\n",
       "\n",
       "    .dataframe tbody tr th {\n",
       "        vertical-align: top;\n",
       "    }\n",
       "\n",
       "    .dataframe thead th {\n",
       "        text-align: right;\n",
       "    }\n",
       "</style>\n",
       "<table border=\"1\" class=\"dataframe\">\n",
       "  <thead>\n",
       "    <tr style=\"text-align: right;\">\n",
       "      <th></th>\n",
       "      <th>age</th>\n",
       "      <th>days_since_last_login</th>\n",
       "      <th>avg_time_spent</th>\n",
       "      <th>avg_transaction_value</th>\n",
       "      <th>points_in_wallet</th>\n",
       "      <th>churn_risk_score</th>\n",
       "    </tr>\n",
       "  </thead>\n",
       "  <tbody>\n",
       "    <tr>\n",
       "      <th>count</th>\n",
       "      <td>36992.000000</td>\n",
       "      <td>36992.000000</td>\n",
       "      <td>36992.000000</td>\n",
       "      <td>36992.000000</td>\n",
       "      <td>33549.000000</td>\n",
       "      <td>36992.000000</td>\n",
       "    </tr>\n",
       "    <tr>\n",
       "      <th>mean</th>\n",
       "      <td>37.118161</td>\n",
       "      <td>-41.915576</td>\n",
       "      <td>243.472334</td>\n",
       "      <td>29271.194003</td>\n",
       "      <td>686.882199</td>\n",
       "      <td>3.463397</td>\n",
       "    </tr>\n",
       "    <tr>\n",
       "      <th>std</th>\n",
       "      <td>15.867412</td>\n",
       "      <td>228.819900</td>\n",
       "      <td>398.289149</td>\n",
       "      <td>19444.806226</td>\n",
       "      <td>194.063624</td>\n",
       "      <td>1.409661</td>\n",
       "    </tr>\n",
       "    <tr>\n",
       "      <th>min</th>\n",
       "      <td>10.000000</td>\n",
       "      <td>-999.000000</td>\n",
       "      <td>-2814.109110</td>\n",
       "      <td>800.460000</td>\n",
       "      <td>-760.661236</td>\n",
       "      <td>-1.000000</td>\n",
       "    </tr>\n",
       "    <tr>\n",
       "      <th>25%</th>\n",
       "      <td>23.000000</td>\n",
       "      <td>8.000000</td>\n",
       "      <td>60.102500</td>\n",
       "      <td>14177.540000</td>\n",
       "      <td>616.150000</td>\n",
       "      <td>3.000000</td>\n",
       "    </tr>\n",
       "    <tr>\n",
       "      <th>50%</th>\n",
       "      <td>37.000000</td>\n",
       "      <td>12.000000</td>\n",
       "      <td>161.765000</td>\n",
       "      <td>27554.485000</td>\n",
       "      <td>697.620000</td>\n",
       "      <td>4.000000</td>\n",
       "    </tr>\n",
       "    <tr>\n",
       "      <th>75%</th>\n",
       "      <td>51.000000</td>\n",
       "      <td>16.000000</td>\n",
       "      <td>356.515000</td>\n",
       "      <td>40855.110000</td>\n",
       "      <td>763.950000</td>\n",
       "      <td>5.000000</td>\n",
       "    </tr>\n",
       "    <tr>\n",
       "      <th>max</th>\n",
       "      <td>64.000000</td>\n",
       "      <td>26.000000</td>\n",
       "      <td>3235.578521</td>\n",
       "      <td>99914.050000</td>\n",
       "      <td>2069.069761</td>\n",
       "      <td>5.000000</td>\n",
       "    </tr>\n",
       "  </tbody>\n",
       "</table>\n",
       "</div>"
      ],
      "text/plain": [
       "                age  days_since_last_login  avg_time_spent  \\\n",
       "count  36992.000000           36992.000000    36992.000000   \n",
       "mean      37.118161             -41.915576      243.472334   \n",
       "std       15.867412             228.819900      398.289149   \n",
       "min       10.000000            -999.000000    -2814.109110   \n",
       "25%       23.000000               8.000000       60.102500   \n",
       "50%       37.000000              12.000000      161.765000   \n",
       "75%       51.000000              16.000000      356.515000   \n",
       "max       64.000000              26.000000     3235.578521   \n",
       "\n",
       "       avg_transaction_value  points_in_wallet  churn_risk_score  \n",
       "count           36992.000000      33549.000000      36992.000000  \n",
       "mean            29271.194003        686.882199          3.463397  \n",
       "std             19444.806226        194.063624          1.409661  \n",
       "min               800.460000       -760.661236         -1.000000  \n",
       "25%             14177.540000        616.150000          3.000000  \n",
       "50%             27554.485000        697.620000          4.000000  \n",
       "75%             40855.110000        763.950000          5.000000  \n",
       "max             99914.050000       2069.069761          5.000000  "
      ]
     },
     "execution_count": 7,
     "metadata": {},
     "output_type": "execute_result"
    }
   ],
   "source": [
    "train_data.describe()"
   ]
  },
  {
   "cell_type": "code",
   "execution_count": 8,
   "id": "macro-madness",
   "metadata": {
    "execution": {
     "iopub.execute_input": "2021-05-06T08:52:43.228375Z",
     "iopub.status.busy": "2021-05-06T08:52:43.227595Z",
     "iopub.status.idle": "2021-05-06T08:52:43.256111Z",
     "shell.execute_reply": "2021-05-06T08:52:43.255553Z"
    },
    "papermill": {
     "duration": 0.086833,
     "end_time": "2021-05-06T08:52:43.256339",
     "exception": false,
     "start_time": "2021-05-06T08:52:43.169506",
     "status": "completed"
    },
    "tags": []
   },
   "outputs": [
    {
     "data": {
      "text/html": [
       "<div>\n",
       "<style scoped>\n",
       "    .dataframe tbody tr th:only-of-type {\n",
       "        vertical-align: middle;\n",
       "    }\n",
       "\n",
       "    .dataframe tbody tr th {\n",
       "        vertical-align: top;\n",
       "    }\n",
       "\n",
       "    .dataframe thead th {\n",
       "        text-align: right;\n",
       "    }\n",
       "</style>\n",
       "<table border=\"1\" class=\"dataframe\">\n",
       "  <thead>\n",
       "    <tr style=\"text-align: right;\">\n",
       "      <th></th>\n",
       "      <th>age</th>\n",
       "      <th>days_since_last_login</th>\n",
       "      <th>avg_time_spent</th>\n",
       "      <th>avg_transaction_value</th>\n",
       "      <th>points_in_wallet</th>\n",
       "    </tr>\n",
       "  </thead>\n",
       "  <tbody>\n",
       "    <tr>\n",
       "      <th>count</th>\n",
       "      <td>19919.000000</td>\n",
       "      <td>19919.000000</td>\n",
       "      <td>19919.000000</td>\n",
       "      <td>19919.000000</td>\n",
       "      <td>17956.000000</td>\n",
       "    </tr>\n",
       "    <tr>\n",
       "      <th>mean</th>\n",
       "      <td>36.884432</td>\n",
       "      <td>-39.216527</td>\n",
       "      <td>244.134926</td>\n",
       "      <td>29318.122196</td>\n",
       "      <td>685.968794</td>\n",
       "    </tr>\n",
       "    <tr>\n",
       "      <th>std</th>\n",
       "      <td>15.917311</td>\n",
       "      <td>223.274420</td>\n",
       "      <td>403.910806</td>\n",
       "      <td>19507.775429</td>\n",
       "      <td>192.152979</td>\n",
       "    </tr>\n",
       "    <tr>\n",
       "      <th>min</th>\n",
       "      <td>10.000000</td>\n",
       "      <td>-999.000000</td>\n",
       "      <td>-2180.780796</td>\n",
       "      <td>803.710000</td>\n",
       "      <td>-465.289977</td>\n",
       "    </tr>\n",
       "    <tr>\n",
       "      <th>25%</th>\n",
       "      <td>23.000000</td>\n",
       "      <td>8.000000</td>\n",
       "      <td>59.360000</td>\n",
       "      <td>14236.200000</td>\n",
       "      <td>615.730000</td>\n",
       "    </tr>\n",
       "    <tr>\n",
       "      <th>50%</th>\n",
       "      <td>37.000000</td>\n",
       "      <td>12.000000</td>\n",
       "      <td>161.240000</td>\n",
       "      <td>27564.050000</td>\n",
       "      <td>698.110000</td>\n",
       "    </tr>\n",
       "    <tr>\n",
       "      <th>75%</th>\n",
       "      <td>51.000000</td>\n",
       "      <td>16.000000</td>\n",
       "      <td>354.195000</td>\n",
       "      <td>40969.400000</td>\n",
       "      <td>764.732500</td>\n",
       "    </tr>\n",
       "    <tr>\n",
       "      <th>max</th>\n",
       "      <td>64.000000</td>\n",
       "      <td>26.000000</td>\n",
       "      <td>3350.060000</td>\n",
       "      <td>99995.030000</td>\n",
       "      <td>2019.671602</td>\n",
       "    </tr>\n",
       "  </tbody>\n",
       "</table>\n",
       "</div>"
      ],
      "text/plain": [
       "                age  days_since_last_login  avg_time_spent  \\\n",
       "count  19919.000000           19919.000000    19919.000000   \n",
       "mean      36.884432             -39.216527      244.134926   \n",
       "std       15.917311             223.274420      403.910806   \n",
       "min       10.000000            -999.000000    -2180.780796   \n",
       "25%       23.000000               8.000000       59.360000   \n",
       "50%       37.000000              12.000000      161.240000   \n",
       "75%       51.000000              16.000000      354.195000   \n",
       "max       64.000000              26.000000     3350.060000   \n",
       "\n",
       "       avg_transaction_value  points_in_wallet  \n",
       "count           19919.000000      17956.000000  \n",
       "mean            29318.122196        685.968794  \n",
       "std             19507.775429        192.152979  \n",
       "min               803.710000       -465.289977  \n",
       "25%             14236.200000        615.730000  \n",
       "50%             27564.050000        698.110000  \n",
       "75%             40969.400000        764.732500  \n",
       "max             99995.030000       2019.671602  "
      ]
     },
     "execution_count": 8,
     "metadata": {},
     "output_type": "execute_result"
    }
   ],
   "source": [
    "x_test.describe()"
   ]
  },
  {
   "cell_type": "markdown",
   "id": "fantastic-commercial",
   "metadata": {
    "papermill": {
     "duration": 0.050257,
     "end_time": "2021-05-06T08:52:43.357327",
     "exception": false,
     "start_time": "2021-05-06T08:52:43.307070",
     "status": "completed"
    },
    "tags": []
   },
   "source": [
    "## Feature Engineering:"
   ]
  },
  {
   "cell_type": "code",
   "execution_count": 9,
   "id": "instant-characterization",
   "metadata": {
    "execution": {
     "iopub.execute_input": "2021-05-06T08:52:43.464463Z",
     "iopub.status.busy": "2021-05-06T08:52:43.463749Z",
     "iopub.status.idle": "2021-05-06T08:52:43.467479Z",
     "shell.execute_reply": "2021-05-06T08:52:43.466905Z"
    },
    "papermill": {
     "duration": 0.05989,
     "end_time": "2021-05-06T08:52:43.467638",
     "exception": false,
     "start_time": "2021-05-06T08:52:43.407748",
     "status": "completed"
    },
    "tags": []
   },
   "outputs": [],
   "source": [
    "def to_num(data,feature):\n",
    "    data[feature] = pd.to_numeric(data[feature],errors='coerce')"
   ]
  },
  {
   "cell_type": "code",
   "execution_count": 10,
   "id": "turned-there",
   "metadata": {
    "execution": {
     "iopub.execute_input": "2021-05-06T08:52:43.595709Z",
     "iopub.status.busy": "2021-05-06T08:52:43.594921Z",
     "iopub.status.idle": "2021-05-06T08:52:43.626779Z",
     "shell.execute_reply": "2021-05-06T08:52:43.626219Z"
    },
    "papermill": {
     "duration": 0.108503,
     "end_time": "2021-05-06T08:52:43.626945",
     "exception": false,
     "start_time": "2021-05-06T08:52:43.518442",
     "status": "completed"
    },
    "tags": []
   },
   "outputs": [],
   "source": [
    "to_num(train_data,'avg_frequency_login_days')\n",
    "to_num(x_test,'avg_frequency_login_days')"
   ]
  },
  {
   "cell_type": "markdown",
   "id": "defined-shooting",
   "metadata": {
    "papermill": {
     "duration": 0.050609,
     "end_time": "2021-05-06T08:52:43.728656",
     "exception": false,
     "start_time": "2021-05-06T08:52:43.678047",
     "status": "completed"
    },
    "tags": []
   },
   "source": [
    "### Removing useless columns from the data:\n"
   ]
  },
  {
   "cell_type": "code",
   "execution_count": 11,
   "id": "thick-input",
   "metadata": {
    "execution": {
     "iopub.execute_input": "2021-05-06T08:52:43.837345Z",
     "iopub.status.busy": "2021-05-06T08:52:43.836634Z",
     "iopub.status.idle": "2021-05-06T08:52:43.863367Z",
     "shell.execute_reply": "2021-05-06T08:52:43.862589Z"
    },
    "papermill": {
     "duration": 0.083897,
     "end_time": "2021-05-06T08:52:43.863534",
     "exception": false,
     "start_time": "2021-05-06T08:52:43.779637",
     "status": "completed"
    },
    "tags": []
   },
   "outputs": [
    {
     "data": {
      "text/plain": [
       "Index(['age', 'gender', 'region_category', 'membership_category',\n",
       "       'joining_date', 'joined_through_referral', 'preferred_offer_types',\n",
       "       'medium_of_operation', 'internet_option', 'last_visit_time',\n",
       "       'days_since_last_login', 'avg_time_spent', 'avg_transaction_value',\n",
       "       'avg_frequency_login_days', 'points_in_wallet', 'used_special_discount',\n",
       "       'offer_application_preference', 'past_complaint', 'complaint_status',\n",
       "       'feedback', 'churn_risk_score'],\n",
       "      dtype='object')"
      ]
     },
     "execution_count": 11,
     "metadata": {},
     "output_type": "execute_result"
    }
   ],
   "source": [
    "useless = ['Name','security_no','referral_id','customer_id']\n",
    "train_data = train_data.drop(useless,axis = 1)\n",
    "x_test = x_test.drop(useless,axis = 1)\n",
    "train_data.columns"
   ]
  },
  {
   "cell_type": "code",
   "execution_count": 12,
   "id": "celtic-director",
   "metadata": {
    "execution": {
     "iopub.execute_input": "2021-05-06T08:52:43.977859Z",
     "iopub.status.busy": "2021-05-06T08:52:43.976829Z",
     "iopub.status.idle": "2021-05-06T08:52:43.982063Z",
     "shell.execute_reply": "2021-05-06T08:52:43.981414Z"
    },
    "papermill": {
     "duration": 0.064163,
     "end_time": "2021-05-06T08:52:43.982213",
     "exception": false,
     "start_time": "2021-05-06T08:52:43.918050",
     "status": "completed"
    },
    "tags": []
   },
   "outputs": [
    {
     "data": {
      "text/plain": [
       "Index(['age', 'gender', 'region_category', 'membership_category',\n",
       "       'joining_date', 'joined_through_referral', 'preferred_offer_types',\n",
       "       'medium_of_operation', 'internet_option', 'last_visit_time',\n",
       "       'days_since_last_login', 'avg_time_spent', 'avg_transaction_value',\n",
       "       'avg_frequency_login_days', 'points_in_wallet', 'used_special_discount',\n",
       "       'offer_application_preference', 'past_complaint', 'complaint_status',\n",
       "       'feedback'],\n",
       "      dtype='object')"
      ]
     },
     "execution_count": 12,
     "metadata": {},
     "output_type": "execute_result"
    }
   ],
   "source": [
    "x_test.columns"
   ]
  },
  {
   "cell_type": "markdown",
   "id": "martial-military",
   "metadata": {
    "papermill": {
     "duration": 0.051464,
     "end_time": "2021-05-06T08:52:44.086203",
     "exception": false,
     "start_time": "2021-05-06T08:52:44.034739",
     "status": "completed"
    },
    "tags": []
   },
   "source": [
    "### Visualization:"
   ]
  },
  {
   "cell_type": "code",
   "execution_count": 13,
   "id": "herbal-responsibility",
   "metadata": {
    "execution": {
     "iopub.execute_input": "2021-05-06T08:52:44.292265Z",
     "iopub.status.busy": "2021-05-06T08:52:44.227683Z",
     "iopub.status.idle": "2021-05-06T08:52:45.077121Z",
     "shell.execute_reply": "2021-05-06T08:52:45.076546Z"
    },
    "papermill": {
     "duration": 0.938436,
     "end_time": "2021-05-06T08:52:45.077304",
     "exception": false,
     "start_time": "2021-05-06T08:52:44.138868",
     "status": "completed"
    },
    "tags": []
   },
   "outputs": [
    {
     "data": {
      "text/plain": [
       "array([[<AxesSubplot:title={'center':'age'}>,\n",
       "        <AxesSubplot:title={'center':'days_since_last_login'}>],\n",
       "       [<AxesSubplot:title={'center':'avg_time_spent'}>,\n",
       "        <AxesSubplot:title={'center':'avg_transaction_value'}>],\n",
       "       [<AxesSubplot:title={'center':'avg_frequency_login_days'}>,\n",
       "        <AxesSubplot:title={'center':'points_in_wallet'}>]], dtype=object)"
      ]
     },
     "execution_count": 13,
     "metadata": {},
     "output_type": "execute_result"
    },
    {
     "data": {
      "image/png": "[encoded data removed]",
      "text/plain": [
       "<Figure size 1296x720 with 6 Axes>"
      ]
     },
     "metadata": {
      "needs_background": "light"
     },
     "output_type": "display_data"
    }
   ],
   "source": [
    "train_data.hist(['age','days_since_last_login','avg_time_spent','avg_transaction_value'\n",
    "                 ,'avg_frequency_login_days','points_in_wallet'],figsize=(18,10),)\n",
    "\n",
    "# avg time spent  - more skewed"
   ]
  },
  {
   "cell_type": "code",
   "execution_count": 14,
   "id": "wrong-parent",
   "metadata": {
    "execution": {
     "iopub.execute_input": "2021-05-06T08:52:45.219359Z",
     "iopub.status.busy": "2021-05-06T08:52:45.218626Z",
     "iopub.status.idle": "2021-05-06T08:52:46.107275Z",
     "shell.execute_reply": "2021-05-06T08:52:46.106558Z"
    },
    "papermill": {
     "duration": 0.974193,
     "end_time": "2021-05-06T08:52:46.107434",
     "exception": false,
     "start_time": "2021-05-06T08:52:45.133241",
     "status": "completed"
    },
    "tags": []
   },
   "outputs": [
    {
     "data": {
      "text/plain": [
       "array([[<AxesSubplot:title={'center':'age'}>,\n",
       "        <AxesSubplot:title={'center':'days_since_last_login'}>],\n",
       "       [<AxesSubplot:title={'center':'avg_time_spent'}>,\n",
       "        <AxesSubplot:title={'center':'avg_transaction_value'}>],\n",
       "       [<AxesSubplot:title={'center':'avg_frequency_login_days'}>,\n",
       "        <AxesSubplot:title={'center':'points_in_wallet'}>]], dtype=object)"
      ]
     },
     "execution_count": 14,
     "metadata": {},
     "output_type": "execute_result"
    },
    {
     "data": {
      "image/png": "[encoded data removed]",
      "text/plain": [
       "<Figure size 1296x720 with 6 Axes>"
      ]
     },
     "metadata": {
      "needs_background": "light"
     },
     "output_type": "display_data"
    }
   ],
   "source": [
    "x_test.hist(['age','days_since_last_login','avg_time_spent','avg_transaction_value'\n",
    "                 ,'avg_frequency_login_days','points_in_wallet'],figsize=(18,10),)"
   ]
  },
  {
   "cell_type": "code",
   "execution_count": 15,
   "id": "contemporary-variance",
   "metadata": {
    "execution": {
     "iopub.execute_input": "2021-05-06T08:52:46.230261Z",
     "iopub.status.busy": "2021-05-06T08:52:46.229046Z",
     "iopub.status.idle": "2021-05-06T08:52:46.232698Z",
     "shell.execute_reply": "2021-05-06T08:52:46.232164Z"
    },
    "papermill": {
     "duration": 0.067713,
     "end_time": "2021-05-06T08:52:46.232865",
     "exception": false,
     "start_time": "2021-05-06T08:52:46.165152",
     "status": "completed"
    },
    "tags": []
   },
   "outputs": [],
   "source": [
    "def PlotBarCharts(inpData, colsToPlot):\n",
    "    \n",
    "    # Generating multiple subplots\n",
    "    fig, subPlot=plt.subplots(nrows=3, ncols=4, figsize=(28,15))\n",
    "    \n",
    "    subPlot = subPlot.ravel()\n",
    "\n",
    "    for colName, plotNumber in zip(colsToPlot, range(len(colsToPlot))):\n",
    "        inpData.groupby(colName).size().plot(kind='bar',ax=subPlot[plotNumber])"
   ]
  },
  {
   "cell_type": "code",
   "execution_count": 16,
   "id": "presidential-somerset",
   "metadata": {
    "execution": {
     "iopub.execute_input": "2021-05-06T08:52:46.563659Z",
     "iopub.status.busy": "2021-05-06T08:52:46.540500Z",
     "iopub.status.idle": "2021-05-06T08:52:48.356249Z",
     "shell.execute_reply": "2021-05-06T08:52:48.355573Z"
    },
    "papermill": {
     "duration": 2.066999,
     "end_time": "2021-05-06T08:52:48.356402",
     "exception": false,
     "start_time": "2021-05-06T08:52:46.289403",
     "status": "completed"
    },
    "tags": []
   },
   "outputs": [
    {
     "data": {
      "image/png": "[encoded data removed]",
      "text/plain": [
       "<Figure size 2016x1080 with 12 Axes>"
      ]
     },
     "metadata": {
      "needs_background": "light"
     },
     "output_type": "display_data"
    }
   ],
   "source": [
    "# Calling the function\n",
    "PlotBarCharts(inpData=train_data, colsToPlot=['gender', 'region_category', 'membership_category',\n",
    "        'joined_through_referral', 'preferred_offer_types',\n",
    "       'medium_of_operation', 'internet_option' ,\n",
    "        'used_special_discount',\n",
    "       'offer_application_preference', 'past_complaint', 'complaint_status',\n",
    "       'feedback'])\n",
    "\n",
    "#by loooking at graph we can say that each value in each features has enough data for model to learn."
   ]
  },
  {
   "cell_type": "markdown",
   "id": "covered-chart",
   "metadata": {
    "papermill": {
     "duration": 0.059092,
     "end_time": "2021-05-06T08:52:48.480802",
     "exception": false,
     "start_time": "2021-05-06T08:52:48.421710",
     "status": "completed"
    },
    "tags": []
   },
   "source": [
    "## Outlier treatment: \n",
    "\n",
    "**Replacing outliers: Have to treat them one by one.**\n"
   ]
  },
  {
   "cell_type": "markdown",
   "id": "gothic-literacy",
   "metadata": {
    "papermill": {
     "duration": 0.058092,
     "end_time": "2021-05-06T08:52:48.597918",
     "exception": false,
     "start_time": "2021-05-06T08:52:48.539826",
     "status": "completed"
    },
    "tags": []
   },
   "source": [
    "Days Since Last Login:"
   ]
  },
  {
   "cell_type": "code",
   "execution_count": 17,
   "id": "common-punishment",
   "metadata": {
    "execution": {
     "iopub.execute_input": "2021-05-06T08:52:48.721845Z",
     "iopub.status.busy": "2021-05-06T08:52:48.721190Z",
     "iopub.status.idle": "2021-05-06T08:52:48.751524Z",
     "shell.execute_reply": "2021-05-06T08:52:48.750929Z"
    },
    "papermill": {
     "duration": 0.094817,
     "end_time": "2021-05-06T08:52:48.751687",
     "exception": false,
     "start_time": "2021-05-06T08:52:48.656870",
     "status": "completed"
    },
    "tags": []
   },
   "outputs": [
    {
     "data": {
      "text/plain": [
       "31851     1\n",
       "32057     1\n",
       "23411     1\n",
       "32060     1\n",
       "35559     1\n",
       "         ..\n",
       "23645    26\n",
       "15496    26\n",
       "4152     26\n",
       "21055    26\n",
       "18361    26\n",
       "Name: days_since_last_login, Length: 34993, dtype: int64"
      ]
     },
     "execution_count": 17,
     "metadata": {},
     "output_type": "execute_result"
    }
   ],
   "source": [
    "#days_since_last_login\n",
    "train_data['days_since_last_login'][train_data['days_since_last_login']>0].sort_values(ascending=True)"
   ]
  },
  {
   "cell_type": "code",
   "execution_count": 18,
   "id": "private-enclosure",
   "metadata": {
    "execution": {
     "iopub.execute_input": "2021-05-06T08:52:48.878139Z",
     "iopub.status.busy": "2021-05-06T08:52:48.877394Z",
     "iopub.status.idle": "2021-05-06T08:52:48.887488Z",
     "shell.execute_reply": "2021-05-06T08:52:48.888020Z"
    },
    "papermill": {
     "duration": 0.076354,
     "end_time": "2021-05-06T08:52:48.888251",
     "exception": false,
     "start_time": "2021-05-06T08:52:48.811897",
     "status": "completed"
    },
    "tags": []
   },
   "outputs": [
    {
     "data": {
      "text/plain": [
       "13047     1\n",
       "8698      1\n",
       "5676      1\n",
       "8143      1\n",
       "372       1\n",
       "         ..\n",
       "6211     26\n",
       "11433    26\n",
       "16089    26\n",
       "19617    26\n",
       "14367    26\n",
       "Name: days_since_last_login, Length: 18897, dtype: int64"
      ]
     },
     "execution_count": 18,
     "metadata": {},
     "output_type": "execute_result"
    }
   ],
   "source": [
    "x_test['days_since_last_login'][x_test['days_since_last_login']>0].sort_values(ascending=True)"
   ]
  },
  {
   "cell_type": "code",
   "execution_count": 19,
   "id": "damaged-police",
   "metadata": {
    "execution": {
     "iopub.execute_input": "2021-05-06T08:52:49.024574Z",
     "iopub.status.busy": "2021-05-06T08:52:49.020586Z",
     "iopub.status.idle": "2021-05-06T08:52:49.034058Z",
     "shell.execute_reply": "2021-05-06T08:52:49.033414Z"
    },
    "papermill": {
     "duration": 0.084268,
     "end_time": "2021-05-06T08:52:49.034236",
     "exception": false,
     "start_time": "2021-05-06T08:52:48.949968",
     "status": "completed"
    },
    "tags": []
   },
   "outputs": [],
   "source": [
    "train_data['days_since_last_login'][train_data['days_since_last_login']<0]=1\n",
    "x_test['days_since_last_login'][x_test['days_since_last_login']<0]=1"
   ]
  },
  {
   "cell_type": "markdown",
   "id": "crude-testament",
   "metadata": {
    "papermill": {
     "duration": 0.060205,
     "end_time": "2021-05-06T08:52:49.156286",
     "exception": false,
     "start_time": "2021-05-06T08:52:49.096081",
     "status": "completed"
    },
    "tags": []
   },
   "source": [
    "Avg Time Spent:"
   ]
  },
  {
   "cell_type": "code",
   "execution_count": 20,
   "id": "addressed-alberta",
   "metadata": {
    "execution": {
     "iopub.execute_input": "2021-05-06T08:52:49.286430Z",
     "iopub.status.busy": "2021-05-06T08:52:49.285317Z",
     "iopub.status.idle": "2021-05-06T08:52:49.299482Z",
     "shell.execute_reply": "2021-05-06T08:52:49.298847Z"
    },
    "papermill": {
     "duration": 0.082244,
     "end_time": "2021-05-06T08:52:49.299638",
     "exception": false,
     "start_time": "2021-05-06T08:52:49.217394",
     "status": "completed"
    },
    "tags": []
   },
   "outputs": [
    {
     "data": {
      "text/plain": [
       "18772       1.837399\n",
       "15827      15.114910\n",
       "6728       22.729738\n",
       "35204      25.445493\n",
       "14316      29.837667\n",
       "            ...     \n",
       "2214     2770.560000\n",
       "17450    2861.230000\n",
       "24508    2899.660000\n",
       "24014    3040.410000\n",
       "33680    3235.578521\n",
       "Name: avg_time_spent, Length: 35273, dtype: float64"
      ]
     },
     "execution_count": 20,
     "metadata": {},
     "output_type": "execute_result"
    }
   ],
   "source": [
    "#avg_time_spent\n",
    "train_data['avg_time_spent'][train_data['avg_time_spent']>0].sort_values(ascending=True)"
   ]
  },
  {
   "cell_type": "code",
   "execution_count": 21,
   "id": "mediterranean-outside",
   "metadata": {
    "execution": {
     "iopub.execute_input": "2021-05-06T08:52:49.427737Z",
     "iopub.status.busy": "2021-05-06T08:52:49.426972Z",
     "iopub.status.idle": "2021-05-06T08:52:49.442186Z",
     "shell.execute_reply": "2021-05-06T08:52:49.441453Z"
    },
    "papermill": {
     "duration": 0.082362,
     "end_time": "2021-05-06T08:52:49.442345",
     "exception": false,
     "start_time": "2021-05-06T08:52:49.359983",
     "status": "completed"
    },
    "tags": []
   },
   "outputs": [
    {
     "data": {
      "text/plain": [
       "24508    2899.660000\n",
       "17450    2861.230000\n",
       "2214     2770.560000\n",
       "31703    2766.750000\n",
       "25562    2747.891340\n",
       "            ...     \n",
       "26833   -2034.801880\n",
       "3565    -2093.121606\n",
       "9867    -2096.580681\n",
       "27259   -2281.236526\n",
       "23206   -2814.109110\n",
       "Name: avg_time_spent, Length: 36990, dtype: float64"
      ]
     },
     "execution_count": 21,
     "metadata": {},
     "output_type": "execute_result"
    }
   ],
   "source": [
    "train_data['avg_time_spent'][train_data['avg_time_spent']<3000].sort_values(ascending=False)"
   ]
  },
  {
   "cell_type": "code",
   "execution_count": 22,
   "id": "popular-toilet",
   "metadata": {
    "execution": {
     "iopub.execute_input": "2021-05-06T08:52:49.572134Z",
     "iopub.status.busy": "2021-05-06T08:52:49.571091Z",
     "iopub.status.idle": "2021-05-06T08:52:49.582108Z",
     "shell.execute_reply": "2021-05-06T08:52:49.582611Z"
    },
    "papermill": {
     "duration": 0.079523,
     "end_time": "2021-05-06T08:52:49.582807",
     "exception": false,
     "start_time": "2021-05-06T08:52:49.503284",
     "status": "completed"
    },
    "tags": []
   },
   "outputs": [
    {
     "data": {
      "text/plain": [
       "14603      13.111290\n",
       "4511       14.092768\n",
       "12490      30.000000\n",
       "16366      30.000000\n",
       "6196       30.000000\n",
       "            ...     \n",
       "6877     2821.700394\n",
       "13093    2830.522122\n",
       "700      3005.450000\n",
       "10026    3218.150000\n",
       "7802     3350.060000\n",
       "Name: avg_time_spent, Length: 18988, dtype: float64"
      ]
     },
     "execution_count": 22,
     "metadata": {},
     "output_type": "execute_result"
    }
   ],
   "source": [
    "x_test['avg_time_spent'][x_test['avg_time_spent']>0].sort_values(ascending=True)"
   ]
  },
  {
   "cell_type": "code",
   "execution_count": 23,
   "id": "dangerous-entrance",
   "metadata": {
    "execution": {
     "iopub.execute_input": "2021-05-06T08:52:49.718909Z",
     "iopub.status.busy": "2021-05-06T08:52:49.717850Z",
     "iopub.status.idle": "2021-05-06T08:52:49.730274Z",
     "shell.execute_reply": "2021-05-06T08:52:49.730765Z"
    },
    "papermill": {
     "duration": 0.085824,
     "end_time": "2021-05-06T08:52:49.730966",
     "exception": false,
     "start_time": "2021-05-06T08:52:49.645142",
     "status": "completed"
    },
    "tags": []
   },
   "outputs": [],
   "source": [
    "train_data['avg_time_spent'][train_data['avg_time_spent']<0]=1.837399\n",
    "train_data['avg_time_spent'][train_data['avg_time_spent']>3000]=2899.660000\n",
    "x_test['avg_time_spent'][x_test['avg_time_spent']<0]=13.111290\n",
    "x_test['avg_time_spent'][x_test['avg_time_spent']>3000]=2830.522122\n",
    "\n"
   ]
  },
  {
   "cell_type": "markdown",
   "id": "monetary-people",
   "metadata": {
    "papermill": {
     "duration": 0.061927,
     "end_time": "2021-05-06T08:52:49.855406",
     "exception": false,
     "start_time": "2021-05-06T08:52:49.793479",
     "status": "completed"
    },
    "tags": []
   },
   "source": [
    "Avg Freq Login Days:"
   ]
  },
  {
   "cell_type": "code",
   "execution_count": 24,
   "id": "affected-freeware",
   "metadata": {
    "execution": {
     "iopub.execute_input": "2021-05-06T08:52:49.985183Z",
     "iopub.status.busy": "2021-05-06T08:52:49.984164Z",
     "iopub.status.idle": "2021-05-06T08:52:49.998087Z",
     "shell.execute_reply": "2021-05-06T08:52:49.998575Z"
    },
    "papermill": {
     "duration": 0.080851,
     "end_time": "2021-05-06T08:52:49.998768",
     "exception": false,
     "start_time": "2021-05-06T08:52:49.917917",
     "status": "completed"
    },
    "tags": []
   },
   "outputs": [
    {
     "data": {
      "text/plain": [
       "8804      0.009208\n",
       "16751     0.027318\n",
       "25562     0.030449\n",
       "4459      0.113511\n",
       "16161     0.132288\n",
       "           ...    \n",
       "13585    56.161979\n",
       "4622     56.538478\n",
       "5393     63.523537\n",
       "32504    67.062422\n",
       "15597    73.061995\n",
       "Name: avg_frequency_login_days, Length: 32787, dtype: float64"
      ]
     },
     "execution_count": 24,
     "metadata": {},
     "output_type": "execute_result"
    }
   ],
   "source": [
    "train_data['avg_frequency_login_days'][train_data['avg_frequency_login_days']>0].sort_values(ascending=True)"
   ]
  },
  {
   "cell_type": "code",
   "execution_count": 25,
   "id": "appointed-stadium",
   "metadata": {
    "execution": {
     "iopub.execute_input": "2021-05-06T08:52:50.130815Z",
     "iopub.status.busy": "2021-05-06T08:52:50.129746Z",
     "iopub.status.idle": "2021-05-06T08:52:50.145771Z",
     "shell.execute_reply": "2021-05-06T08:52:50.145014Z"
    },
    "papermill": {
     "duration": 0.08476,
     "end_time": "2021-05-06T08:52:50.145933",
     "exception": false,
     "start_time": "2021-05-06T08:52:50.061173",
     "status": "completed"
    },
    "tags": []
   },
   "outputs": [
    {
     "data": {
      "text/plain": [
       "5549    -43.652702\n",
       "36525   -43.625413\n",
       "2754    -37.424778\n",
       "1103    -35.815758\n",
       "28807   -34.417115\n",
       "           ...    \n",
       "15625    55.422853\n",
       "4679     55.652396\n",
       "22760    56.046586\n",
       "13585    56.161979\n",
       "4622     56.538478\n",
       "Name: avg_frequency_login_days, Length: 33467, dtype: float64"
      ]
     },
     "execution_count": 25,
     "metadata": {},
     "output_type": "execute_result"
    }
   ],
   "source": [
    "train_data['avg_frequency_login_days'][train_data['avg_frequency_login_days']<60].sort_values(ascending=True)"
   ]
  },
  {
   "cell_type": "code",
   "execution_count": 26,
   "id": "velvet-racing",
   "metadata": {
    "execution": {
     "iopub.execute_input": "2021-05-06T08:52:50.286668Z",
     "iopub.status.busy": "2021-05-06T08:52:50.285567Z",
     "iopub.status.idle": "2021-05-06T08:52:50.299431Z",
     "shell.execute_reply": "2021-05-06T08:52:50.298651Z"
    },
    "papermill": {
     "duration": 0.085683,
     "end_time": "2021-05-06T08:52:50.299596",
     "exception": false,
     "start_time": "2021-05-06T08:52:50.213913",
     "status": "completed"
    },
    "tags": []
   },
   "outputs": [
    {
     "data": {
      "text/plain": [
       "10007     0.127616\n",
       "14727     0.246415\n",
       "7113      0.275809\n",
       "106       0.278740\n",
       "17197     0.332573\n",
       "           ...    \n",
       "5949     70.513074\n",
       "13903    76.166776\n",
       "10081    76.808483\n",
       "19157    77.860123\n",
       "11558    79.469927\n",
       "Name: avg_frequency_login_days, Length: 17609, dtype: float64"
      ]
     },
     "execution_count": 26,
     "metadata": {},
     "output_type": "execute_result"
    }
   ],
   "source": [
    "x_test['avg_frequency_login_days'][x_test['avg_frequency_login_days']>0].sort_values(ascending=True)"
   ]
  },
  {
   "cell_type": "code",
   "execution_count": 27,
   "id": "monetary-bench",
   "metadata": {
    "execution": {
     "iopub.execute_input": "2021-05-06T08:52:50.437128Z",
     "iopub.status.busy": "2021-05-06T08:52:50.436027Z",
     "iopub.status.idle": "2021-05-06T08:52:50.449802Z",
     "shell.execute_reply": "2021-05-06T08:52:50.450347Z"
    },
    "papermill": {
     "duration": 0.086493,
     "end_time": "2021-05-06T08:52:50.450559",
     "exception": false,
     "start_time": "2021-05-06T08:52:50.364066",
     "status": "completed"
    },
    "tags": []
   },
   "outputs": [],
   "source": [
    "train_data['avg_frequency_login_days'][train_data['avg_frequency_login_days']<0]=0.009208\n",
    "train_data['avg_frequency_login_days'][train_data['avg_frequency_login_days']>60]=56.538478\n",
    "x_test['avg_frequency_login_days'][x_test['avg_frequency_login_days']<0]=0.127616\n",
    "#x_test['avg_frequency_login_days'][x_test['avg_frequency_login_days']>60]=58.445839\n"
   ]
  },
  {
   "cell_type": "markdown",
   "id": "suitable-smile",
   "metadata": {
    "papermill": {
     "duration": 0.063543,
     "end_time": "2021-05-06T08:52:50.577348",
     "exception": false,
     "start_time": "2021-05-06T08:52:50.513805",
     "status": "completed"
    },
    "tags": []
   },
   "source": [
    "Points In Wallet:"
   ]
  },
  {
   "cell_type": "code",
   "execution_count": 28,
   "id": "referenced-mediterranean",
   "metadata": {
    "execution": {
     "iopub.execute_input": "2021-05-06T08:52:50.709240Z",
     "iopub.status.busy": "2021-05-06T08:52:50.708084Z",
     "iopub.status.idle": "2021-05-06T08:52:50.723779Z",
     "shell.execute_reply": "2021-05-06T08:52:50.724306Z"
    },
    "papermill": {
     "duration": 0.082908,
     "end_time": "2021-05-06T08:52:50.724506",
     "exception": false,
     "start_time": "2021-05-06T08:52:50.641598",
     "status": "completed"
    },
    "tags": []
   },
   "outputs": [
    {
     "data": {
      "text/plain": [
       "30319       6.432208\n",
       "33885       6.861261\n",
       "21125       8.116084\n",
       "35013       8.791558\n",
       "2440        9.837591\n",
       "            ...     \n",
       "12751    1759.002532\n",
       "18768    1763.351594\n",
       "29361    1780.720173\n",
       "16322    1816.933696\n",
       "32528    2069.069761\n",
       "Name: points_in_wallet, Length: 33413, dtype: float64"
      ]
     },
     "execution_count": 28,
     "metadata": {},
     "output_type": "execute_result"
    }
   ],
   "source": [
    "train_data['points_in_wallet'][train_data['points_in_wallet']>0].sort_values(ascending=True)"
   ]
  },
  {
   "cell_type": "code",
   "execution_count": 29,
   "id": "located-binary",
   "metadata": {
    "execution": {
     "iopub.execute_input": "2021-05-06T08:52:50.857678Z",
     "iopub.status.busy": "2021-05-06T08:52:50.856960Z",
     "iopub.status.idle": "2021-05-06T08:52:50.869419Z",
     "shell.execute_reply": "2021-05-06T08:52:50.869919Z"
    },
    "papermill": {
     "duration": 0.081168,
     "end_time": "2021-05-06T08:52:50.870119",
     "exception": false,
     "start_time": "2021-05-06T08:52:50.788951",
     "status": "completed"
    },
    "tags": []
   },
   "outputs": [
    {
     "data": {
      "text/plain": [
       "19599       6.034666\n",
       "17671       9.490484\n",
       "17564      13.201942\n",
       "1183       15.945980\n",
       "3962       16.798932\n",
       "            ...     \n",
       "15463    1730.549571\n",
       "11705    1736.522643\n",
       "12245    1783.307652\n",
       "12215    1830.797420\n",
       "13141    2019.671602\n",
       "Name: points_in_wallet, Length: 17895, dtype: float64"
      ]
     },
     "execution_count": 29,
     "metadata": {},
     "output_type": "execute_result"
    }
   ],
   "source": [
    "x_test['points_in_wallet'][x_test['points_in_wallet']>0].sort_values(ascending=True)"
   ]
  },
  {
   "cell_type": "code",
   "execution_count": 30,
   "id": "specified-catalyst",
   "metadata": {
    "execution": {
     "iopub.execute_input": "2021-05-06T08:52:51.004433Z",
     "iopub.status.busy": "2021-05-06T08:52:51.003690Z",
     "iopub.status.idle": "2021-05-06T08:52:51.016328Z",
     "shell.execute_reply": "2021-05-06T08:52:51.016860Z"
    },
    "papermill": {
     "duration": 0.080911,
     "end_time": "2021-05-06T08:52:51.017134",
     "exception": false,
     "start_time": "2021-05-06T08:52:50.936223",
     "status": "completed"
    },
    "tags": []
   },
   "outputs": [],
   "source": [
    "train_data['points_in_wallet'][train_data['points_in_wallet']<0]= 6.432208\n",
    "x_test['points_in_wallet'][x_test['points_in_wallet']<0]= 6.034666"
   ]
  },
  {
   "cell_type": "markdown",
   "id": "official-national",
   "metadata": {
    "papermill": {
     "duration": 0.064331,
     "end_time": "2021-05-06T08:52:51.145873",
     "exception": false,
     "start_time": "2021-05-06T08:52:51.081542",
     "status": "completed"
    },
    "tags": []
   },
   "source": [
    "# Missing Values:\n",
    "\n",
    "### Look out for missing values and treat them."
   ]
  },
  {
   "cell_type": "markdown",
   "id": "conservative-tribe",
   "metadata": {
    "papermill": {
     "duration": 0.064563,
     "end_time": "2021-05-06T08:52:51.275519",
     "exception": false,
     "start_time": "2021-05-06T08:52:51.210956",
     "status": "completed"
    },
    "tags": []
   },
   "source": [
    "### Getting percentage value of missing values:"
   ]
  },
  {
   "cell_type": "code",
   "execution_count": 31,
   "id": "cellular-rubber",
   "metadata": {
    "execution": {
     "iopub.execute_input": "2021-05-06T08:52:51.417654Z",
     "iopub.status.busy": "2021-05-06T08:52:51.416419Z",
     "iopub.status.idle": "2021-05-06T08:52:51.420152Z",
     "shell.execute_reply": "2021-05-06T08:52:51.421089Z"
    },
    "papermill": {
     "duration": 0.079741,
     "end_time": "2021-05-06T08:52:51.421299",
     "exception": false,
     "start_time": "2021-05-06T08:52:51.341558",
     "status": "completed"
    },
    "tags": []
   },
   "outputs": [],
   "source": [
    "#lets create a dataframe which shows us the missing value and percentage-\n",
    "#-missing values.\n",
    "\n",
    "def missing_per(data):\n",
    "    #missing_data.columns = [\"Feature\",\"missing_num\"]\n",
    "    missing_data = data.isna().sum().reset_index()\n",
    "    missing_data.columns = [\"Feature\",\"Missing_Value\"]\n",
    "    missing_data['Missing_Percent'] = round(missing_data.Missing_Value / len(data) * 100,2) \n",
    "    return  missing_data[missing_data.Missing_Value > 0]"
   ]
  },
  {
   "cell_type": "code",
   "execution_count": 32,
   "id": "great-lender",
   "metadata": {
    "execution": {
     "iopub.execute_input": "2021-05-06T08:52:51.641130Z",
     "iopub.status.busy": "2021-05-06T08:52:51.640281Z",
     "iopub.status.idle": "2021-05-06T08:52:51.661165Z",
     "shell.execute_reply": "2021-05-06T08:52:51.660430Z"
    },
    "papermill": {
     "duration": 0.152548,
     "end_time": "2021-05-06T08:52:51.661361",
     "exception": false,
     "start_time": "2021-05-06T08:52:51.508813",
     "status": "completed"
    },
    "tags": []
   },
   "outputs": [
    {
     "data": {
      "text/html": [
       "<div>\n",
       "<style scoped>\n",
       "    .dataframe tbody tr th:only-of-type {\n",
       "        vertical-align: middle;\n",
       "    }\n",
       "\n",
       "    .dataframe tbody tr th {\n",
       "        vertical-align: top;\n",
       "    }\n",
       "\n",
       "    .dataframe thead th {\n",
       "        text-align: right;\n",
       "    }\n",
       "</style>\n",
       "<table border=\"1\" class=\"dataframe\">\n",
       "  <thead>\n",
       "    <tr style=\"text-align: right;\">\n",
       "      <th></th>\n",
       "      <th>Feature</th>\n",
       "      <th>Missing_Value</th>\n",
       "      <th>Missing_Percent</th>\n",
       "    </tr>\n",
       "  </thead>\n",
       "  <tbody>\n",
       "    <tr>\n",
       "      <th>2</th>\n",
       "      <td>region_category</td>\n",
       "      <td>5428</td>\n",
       "      <td>14.67</td>\n",
       "    </tr>\n",
       "    <tr>\n",
       "      <th>6</th>\n",
       "      <td>preferred_offer_types</td>\n",
       "      <td>288</td>\n",
       "      <td>0.78</td>\n",
       "    </tr>\n",
       "    <tr>\n",
       "      <th>13</th>\n",
       "      <td>avg_frequency_login_days</td>\n",
       "      <td>3522</td>\n",
       "      <td>9.52</td>\n",
       "    </tr>\n",
       "    <tr>\n",
       "      <th>14</th>\n",
       "      <td>points_in_wallet</td>\n",
       "      <td>3443</td>\n",
       "      <td>9.31</td>\n",
       "    </tr>\n",
       "  </tbody>\n",
       "</table>\n",
       "</div>"
      ],
      "text/plain": [
       "                     Feature  Missing_Value  Missing_Percent\n",
       "2            region_category           5428            14.67\n",
       "6      preferred_offer_types            288             0.78\n",
       "13  avg_frequency_login_days           3522             9.52\n",
       "14          points_in_wallet           3443             9.31"
      ]
     },
     "execution_count": 32,
     "metadata": {},
     "output_type": "execute_result"
    }
   ],
   "source": [
    "#train data\n",
    "to_be_imputed = missing_per(train_data)\n",
    "to_be_imputed"
   ]
  },
  {
   "cell_type": "code",
   "execution_count": 33,
   "id": "particular-stevens",
   "metadata": {
    "execution": {
     "iopub.execute_input": "2021-05-06T08:52:51.826850Z",
     "iopub.status.busy": "2021-05-06T08:52:51.825910Z",
     "iopub.status.idle": "2021-05-06T08:52:51.843505Z",
     "shell.execute_reply": "2021-05-06T08:52:51.842920Z"
    },
    "papermill": {
     "duration": 0.115587,
     "end_time": "2021-05-06T08:52:51.843665",
     "exception": false,
     "start_time": "2021-05-06T08:52:51.728078",
     "status": "completed"
    },
    "tags": []
   },
   "outputs": [
    {
     "data": {
      "text/html": [
       "<div>\n",
       "<style scoped>\n",
       "    .dataframe tbody tr th:only-of-type {\n",
       "        vertical-align: middle;\n",
       "    }\n",
       "\n",
       "    .dataframe tbody tr th {\n",
       "        vertical-align: top;\n",
       "    }\n",
       "\n",
       "    .dataframe thead th {\n",
       "        text-align: right;\n",
       "    }\n",
       "</style>\n",
       "<table border=\"1\" class=\"dataframe\">\n",
       "  <thead>\n",
       "    <tr style=\"text-align: right;\">\n",
       "      <th></th>\n",
       "      <th>Feature</th>\n",
       "      <th>Missing_Value</th>\n",
       "      <th>Missing_Percent</th>\n",
       "    </tr>\n",
       "  </thead>\n",
       "  <tbody>\n",
       "    <tr>\n",
       "      <th>2</th>\n",
       "      <td>region_category</td>\n",
       "      <td>2948</td>\n",
       "      <td>14.80</td>\n",
       "    </tr>\n",
       "    <tr>\n",
       "      <th>6</th>\n",
       "      <td>preferred_offer_types</td>\n",
       "      <td>159</td>\n",
       "      <td>0.80</td>\n",
       "    </tr>\n",
       "    <tr>\n",
       "      <th>13</th>\n",
       "      <td>avg_frequency_login_days</td>\n",
       "      <td>1915</td>\n",
       "      <td>9.61</td>\n",
       "    </tr>\n",
       "    <tr>\n",
       "      <th>14</th>\n",
       "      <td>points_in_wallet</td>\n",
       "      <td>1963</td>\n",
       "      <td>9.85</td>\n",
       "    </tr>\n",
       "  </tbody>\n",
       "</table>\n",
       "</div>"
      ],
      "text/plain": [
       "                     Feature  Missing_Value  Missing_Percent\n",
       "2            region_category           2948            14.80\n",
       "6      preferred_offer_types            159             0.80\n",
       "13  avg_frequency_login_days           1915             9.61\n",
       "14          points_in_wallet           1963             9.85"
      ]
     },
     "execution_count": 33,
     "metadata": {},
     "output_type": "execute_result"
    }
   ],
   "source": [
    "#test data\n",
    "to_be_imputed = missing_per(x_test)\n",
    "to_be_imputed"
   ]
  },
  {
   "cell_type": "markdown",
   "id": "nasty-traffic",
   "metadata": {
    "papermill": {
     "duration": 0.068875,
     "end_time": "2021-05-06T08:52:51.978160",
     "exception": false,
     "start_time": "2021-05-06T08:52:51.909285",
     "status": "completed"
    },
    "tags": []
   },
   "source": [
    "### Imputing the values:"
   ]
  },
  {
   "cell_type": "markdown",
   "id": "statewide-smoke",
   "metadata": {
    "papermill": {
     "duration": 0.067047,
     "end_time": "2021-05-06T08:52:52.112322",
     "exception": false,
     "start_time": "2021-05-06T08:52:52.045275",
     "status": "completed"
    },
    "tags": []
   },
   "source": [
    "#### Imputing categorical features for both train and test:"
   ]
  },
  {
   "cell_type": "code",
   "execution_count": 34,
   "id": "automatic-organizer",
   "metadata": {
    "execution": {
     "iopub.execute_input": "2021-05-06T08:52:52.252506Z",
     "iopub.status.busy": "2021-05-06T08:52:52.251355Z",
     "iopub.status.idle": "2021-05-06T08:52:52.254771Z",
     "shell.execute_reply": "2021-05-06T08:52:52.255276Z"
    },
    "papermill": {
     "duration": 0.076099,
     "end_time": "2021-05-06T08:52:52.255487",
     "exception": false,
     "start_time": "2021-05-06T08:52:52.179388",
     "status": "completed"
    },
    "tags": []
   },
   "outputs": [],
   "source": [
    "#handling the missing values in categorical features\n",
    "def impute_cat(data,feature):\n",
    "    #data[feature]= np.where(data[feature].isnull(),\"Unknown\",data[feature])\n",
    "    data[feature] = data[feature].replace([np.nan,'?'],'Unknown')"
   ]
  },
  {
   "cell_type": "code",
   "execution_count": 35,
   "id": "going-magnitude",
   "metadata": {
    "execution": {
     "iopub.execute_input": "2021-05-06T08:52:52.404380Z",
     "iopub.status.busy": "2021-05-06T08:52:52.399475Z",
     "iopub.status.idle": "2021-05-06T08:52:52.442446Z",
     "shell.execute_reply": "2021-05-06T08:52:52.441727Z"
    },
    "papermill": {
     "duration": 0.120522,
     "end_time": "2021-05-06T08:52:52.442598",
     "exception": false,
     "start_time": "2021-05-06T08:52:52.322076",
     "status": "completed"
    },
    "tags": []
   },
   "outputs": [],
   "source": [
    "for features in ['region_category','preferred_offer_types','joined_through_referral','medium_of_operation']:\n",
    "    impute_cat(train_data,features)\n",
    "    impute_cat(x_test,features)"
   ]
  },
  {
   "cell_type": "markdown",
   "id": "scientific-vulnerability",
   "metadata": {
    "papermill": {
     "duration": 0.065873,
     "end_time": "2021-05-06T08:52:52.574560",
     "exception": false,
     "start_time": "2021-05-06T08:52:52.508687",
     "status": "completed"
    },
    "tags": []
   },
   "source": [
    "#### Imputing numerical features for both train and test:"
   ]
  },
  {
   "cell_type": "code",
   "execution_count": 36,
   "id": "senior-warrior",
   "metadata": {
    "execution": {
     "iopub.execute_input": "2021-05-06T08:52:52.712938Z",
     "iopub.status.busy": "2021-05-06T08:52:52.712015Z",
     "iopub.status.idle": "2021-05-06T08:52:52.715980Z",
     "shell.execute_reply": "2021-05-06T08:52:52.715454Z"
    },
    "papermill": {
     "duration": 0.075269,
     "end_time": "2021-05-06T08:52:52.716145",
     "exception": false,
     "start_time": "2021-05-06T08:52:52.640876",
     "status": "completed"
    },
    "tags": []
   },
   "outputs": [],
   "source": [
    "#handling the missing values in numerical features\n",
    "def impute_num(data,feature):\n",
    "    data[feature] = data[feature].fillna(data[feature].mean())"
   ]
  },
  {
   "cell_type": "code",
   "execution_count": 37,
   "id": "corresponding-clerk",
   "metadata": {
    "execution": {
     "iopub.execute_input": "2021-05-06T08:52:52.855641Z",
     "iopub.status.busy": "2021-05-06T08:52:52.854436Z",
     "iopub.status.idle": "2021-05-06T08:52:52.862012Z",
     "shell.execute_reply": "2021-05-06T08:52:52.861327Z"
    },
    "papermill": {
     "duration": 0.080034,
     "end_time": "2021-05-06T08:52:52.862189",
     "exception": false,
     "start_time": "2021-05-06T08:52:52.782155",
     "status": "completed"
    },
    "tags": []
   },
   "outputs": [],
   "source": [
    "for features in ['points_in_wallet','avg_frequency_login_days']:\n",
    "    impute_num(train_data,features)\n",
    "    impute_num(x_test,features)"
   ]
  },
  {
   "cell_type": "code",
   "execution_count": 38,
   "id": "defined-swift",
   "metadata": {
    "execution": {
     "iopub.execute_input": "2021-05-06T08:52:53.003590Z",
     "iopub.status.busy": "2021-05-06T08:52:53.002493Z",
     "iopub.status.idle": "2021-05-06T08:52:53.093376Z",
     "shell.execute_reply": "2021-05-06T08:52:53.092491Z"
    },
    "papermill": {
     "duration": 0.164928,
     "end_time": "2021-05-06T08:52:53.093548",
     "exception": false,
     "start_time": "2021-05-06T08:52:52.928620",
     "status": "completed"
    },
    "tags": []
   },
   "outputs": [],
   "source": [
    "#dropping rows with -1 as value i churn risk score\n",
    "train_data['churn_risk_score'] = train_data['churn_risk_score'].replace(-1,np.nan)\n",
    "train_data = train_data.dropna()"
   ]
  },
  {
   "cell_type": "code",
   "execution_count": 39,
   "id": "studied-edward",
   "metadata": {
    "execution": {
     "iopub.execute_input": "2021-05-06T08:52:53.260464Z",
     "iopub.status.busy": "2021-05-06T08:52:53.259776Z",
     "iopub.status.idle": "2021-05-06T08:52:53.269419Z",
     "shell.execute_reply": "2021-05-06T08:52:53.268875Z"
    },
    "papermill": {
     "duration": 0.108871,
     "end_time": "2021-05-06T08:52:53.269577",
     "exception": false,
     "start_time": "2021-05-06T08:52:53.160706",
     "status": "completed"
    },
    "tags": []
   },
   "outputs": [
    {
     "data": {
      "text/plain": [
       "age                             0\n",
       "gender                          0\n",
       "region_category                 0\n",
       "membership_category             0\n",
       "joining_date                    0\n",
       "joined_through_referral         0\n",
       "preferred_offer_types           0\n",
       "medium_of_operation             0\n",
       "internet_option                 0\n",
       "last_visit_time                 0\n",
       "days_since_last_login           0\n",
       "avg_time_spent                  0\n",
       "avg_transaction_value           0\n",
       "avg_frequency_login_days        0\n",
       "points_in_wallet                0\n",
       "used_special_discount           0\n",
       "offer_application_preference    0\n",
       "past_complaint                  0\n",
       "complaint_status                0\n",
       "feedback                        0\n",
       "dtype: int64"
      ]
     },
     "execution_count": 39,
     "metadata": {},
     "output_type": "execute_result"
    }
   ],
   "source": [
    "x_test.isna().sum()"
   ]
  },
  {
   "cell_type": "markdown",
   "id": "dependent-hardware",
   "metadata": {
    "papermill": {
     "duration": 0.06772,
     "end_time": "2021-05-06T08:52:53.405210",
     "exception": false,
     "start_time": "2021-05-06T08:52:53.337490",
     "status": "completed"
    },
    "tags": []
   },
   "source": [
    "## Feature Selection:"
   ]
  },
  {
   "cell_type": "code",
   "execution_count": 40,
   "id": "correct-coordinate",
   "metadata": {
    "execution": {
     "iopub.execute_input": "2021-05-06T08:52:53.545621Z",
     "iopub.status.busy": "2021-05-06T08:52:53.544838Z",
     "iopub.status.idle": "2021-05-06T08:52:53.569751Z",
     "shell.execute_reply": "2021-05-06T08:52:53.569060Z"
    },
    "papermill": {
     "duration": 0.097327,
     "end_time": "2021-05-06T08:52:53.569902",
     "exception": false,
     "start_time": "2021-05-06T08:52:53.472575",
     "status": "completed"
    },
    "tags": []
   },
   "outputs": [
    {
     "data": {
      "text/html": [
       "<div>\n",
       "<style scoped>\n",
       "    .dataframe tbody tr th:only-of-type {\n",
       "        vertical-align: middle;\n",
       "    }\n",
       "\n",
       "    .dataframe tbody tr th {\n",
       "        vertical-align: top;\n",
       "    }\n",
       "\n",
       "    .dataframe thead th {\n",
       "        text-align: right;\n",
       "    }\n",
       "</style>\n",
       "<table border=\"1\" class=\"dataframe\">\n",
       "  <thead>\n",
       "    <tr style=\"text-align: right;\">\n",
       "      <th></th>\n",
       "      <th>age</th>\n",
       "      <th>days_since_last_login</th>\n",
       "      <th>avg_time_spent</th>\n",
       "      <th>avg_transaction_value</th>\n",
       "      <th>avg_frequency_login_days</th>\n",
       "      <th>points_in_wallet</th>\n",
       "      <th>churn_risk_score</th>\n",
       "    </tr>\n",
       "  </thead>\n",
       "  <tbody>\n",
       "    <tr>\n",
       "      <th>age</th>\n",
       "      <td>1.000000</td>\n",
       "      <td>-0.003306</td>\n",
       "      <td>-0.000576</td>\n",
       "      <td>0.000015</td>\n",
       "      <td>-0.001340</td>\n",
       "      <td>0.000682</td>\n",
       "      <td>0.002400</td>\n",
       "    </tr>\n",
       "    <tr>\n",
       "      <th>days_since_last_login</th>\n",
       "      <td>-0.003306</td>\n",
       "      <td>1.000000</td>\n",
       "      <td>-0.092630</td>\n",
       "      <td>-0.012135</td>\n",
       "      <td>0.013287</td>\n",
       "      <td>0.004522</td>\n",
       "      <td>0.023056</td>\n",
       "    </tr>\n",
       "    <tr>\n",
       "      <th>avg_time_spent</th>\n",
       "      <td>-0.000576</td>\n",
       "      <td>-0.092630</td>\n",
       "      <td>1.000000</td>\n",
       "      <td>0.023594</td>\n",
       "      <td>0.000394</td>\n",
       "      <td>-0.003954</td>\n",
       "      <td>-0.027558</td>\n",
       "    </tr>\n",
       "    <tr>\n",
       "      <th>avg_transaction_value</th>\n",
       "      <td>0.000015</td>\n",
       "      <td>-0.012135</td>\n",
       "      <td>0.023594</td>\n",
       "      <td>1.000000</td>\n",
       "      <td>-0.131829</td>\n",
       "      <td>0.084465</td>\n",
       "      <td>-0.363009</td>\n",
       "    </tr>\n",
       "    <tr>\n",
       "      <th>avg_frequency_login_days</th>\n",
       "      <td>-0.001340</td>\n",
       "      <td>0.013287</td>\n",
       "      <td>0.000394</td>\n",
       "      <td>-0.131829</td>\n",
       "      <td>1.000000</td>\n",
       "      <td>-0.046283</td>\n",
       "      <td>0.210584</td>\n",
       "    </tr>\n",
       "    <tr>\n",
       "      <th>points_in_wallet</th>\n",
       "      <td>0.000682</td>\n",
       "      <td>0.004522</td>\n",
       "      <td>-0.003954</td>\n",
       "      <td>0.084465</td>\n",
       "      <td>-0.046283</td>\n",
       "      <td>1.000000</td>\n",
       "      <td>-0.313905</td>\n",
       "    </tr>\n",
       "    <tr>\n",
       "      <th>churn_risk_score</th>\n",
       "      <td>0.002400</td>\n",
       "      <td>0.023056</td>\n",
       "      <td>-0.027558</td>\n",
       "      <td>-0.363009</td>\n",
       "      <td>0.210584</td>\n",
       "      <td>-0.313905</td>\n",
       "      <td>1.000000</td>\n",
       "    </tr>\n",
       "  </tbody>\n",
       "</table>\n",
       "</div>"
      ],
      "text/plain": [
       "                               age  days_since_last_login  avg_time_spent  \\\n",
       "age                       1.000000              -0.003306       -0.000576   \n",
       "days_since_last_login    -0.003306               1.000000       -0.092630   \n",
       "avg_time_spent           -0.000576              -0.092630        1.000000   \n",
       "avg_transaction_value     0.000015              -0.012135        0.023594   \n",
       "avg_frequency_login_days -0.001340               0.013287        0.000394   \n",
       "points_in_wallet          0.000682               0.004522       -0.003954   \n",
       "churn_risk_score          0.002400               0.023056       -0.027558   \n",
       "\n",
       "                          avg_transaction_value  avg_frequency_login_days  \\\n",
       "age                                    0.000015                 -0.001340   \n",
       "days_since_last_login                 -0.012135                  0.013287   \n",
       "avg_time_spent                         0.023594                  0.000394   \n",
       "avg_transaction_value                  1.000000                 -0.131829   \n",
       "avg_frequency_login_days              -0.131829                  1.000000   \n",
       "points_in_wallet                       0.084465                 -0.046283   \n",
       "churn_risk_score                      -0.363009                  0.210584   \n",
       "\n",
       "                          points_in_wallet  churn_risk_score  \n",
       "age                               0.000682          0.002400  \n",
       "days_since_last_login             0.004522          0.023056  \n",
       "avg_time_spent                   -0.003954         -0.027558  \n",
       "avg_transaction_value             0.084465         -0.363009  \n",
       "avg_frequency_login_days         -0.046283          0.210584  \n",
       "points_in_wallet                  1.000000         -0.313905  \n",
       "churn_risk_score                 -0.313905          1.000000  "
      ]
     },
     "execution_count": 40,
     "metadata": {},
     "output_type": "execute_result"
    }
   ],
   "source": [
    "#correlation to select features:\n",
    "#threshold > 0.2 in magnitude\n",
    "train_data.corr()"
   ]
  },
  {
   "cell_type": "code",
   "execution_count": 41,
   "id": "intelligent-venezuela",
   "metadata": {
    "execution": {
     "iopub.execute_input": "2021-05-06T08:52:53.713556Z",
     "iopub.status.busy": "2021-05-06T08:52:53.712820Z",
     "iopub.status.idle": "2021-05-06T08:52:53.736030Z",
     "shell.execute_reply": "2021-05-06T08:52:53.735337Z"
    },
    "papermill": {
     "duration": 0.097673,
     "end_time": "2021-05-06T08:52:53.736190",
     "exception": false,
     "start_time": "2021-05-06T08:52:53.638517",
     "status": "completed"
    },
    "tags": []
   },
   "outputs": [
    {
     "data": {
      "text/html": [
       "<div>\n",
       "<style scoped>\n",
       "    .dataframe tbody tr th:only-of-type {\n",
       "        vertical-align: middle;\n",
       "    }\n",
       "\n",
       "    .dataframe tbody tr th {\n",
       "        vertical-align: top;\n",
       "    }\n",
       "\n",
       "    .dataframe thead th {\n",
       "        text-align: right;\n",
       "    }\n",
       "</style>\n",
       "<table border=\"1\" class=\"dataframe\">\n",
       "  <thead>\n",
       "    <tr style=\"text-align: right;\">\n",
       "      <th></th>\n",
       "      <th>age</th>\n",
       "      <th>days_since_last_login</th>\n",
       "      <th>avg_time_spent</th>\n",
       "      <th>avg_transaction_value</th>\n",
       "      <th>avg_frequency_login_days</th>\n",
       "      <th>points_in_wallet</th>\n",
       "      <th>churn_risk_score</th>\n",
       "    </tr>\n",
       "  </thead>\n",
       "  <tbody>\n",
       "    <tr>\n",
       "      <th>age</th>\n",
       "      <td>1.000000</td>\n",
       "      <td>-0.003306</td>\n",
       "      <td>-0.000576</td>\n",
       "      <td>0.000015</td>\n",
       "      <td>-0.001340</td>\n",
       "      <td>0.000682</td>\n",
       "      <td>0.002400</td>\n",
       "    </tr>\n",
       "    <tr>\n",
       "      <th>days_since_last_login</th>\n",
       "      <td>-0.003306</td>\n",
       "      <td>1.000000</td>\n",
       "      <td>-0.092630</td>\n",
       "      <td>-0.012135</td>\n",
       "      <td>0.013287</td>\n",
       "      <td>0.004522</td>\n",
       "      <td>0.023056</td>\n",
       "    </tr>\n",
       "    <tr>\n",
       "      <th>avg_time_spent</th>\n",
       "      <td>-0.000576</td>\n",
       "      <td>-0.092630</td>\n",
       "      <td>1.000000</td>\n",
       "      <td>0.023594</td>\n",
       "      <td>0.000394</td>\n",
       "      <td>-0.003954</td>\n",
       "      <td>-0.027558</td>\n",
       "    </tr>\n",
       "    <tr>\n",
       "      <th>avg_transaction_value</th>\n",
       "      <td>0.000015</td>\n",
       "      <td>-0.012135</td>\n",
       "      <td>0.023594</td>\n",
       "      <td>1.000000</td>\n",
       "      <td>-0.131829</td>\n",
       "      <td>0.084465</td>\n",
       "      <td>-0.363009</td>\n",
       "    </tr>\n",
       "    <tr>\n",
       "      <th>avg_frequency_login_days</th>\n",
       "      <td>-0.001340</td>\n",
       "      <td>0.013287</td>\n",
       "      <td>0.000394</td>\n",
       "      <td>-0.131829</td>\n",
       "      <td>1.000000</td>\n",
       "      <td>-0.046283</td>\n",
       "      <td>0.210584</td>\n",
       "    </tr>\n",
       "    <tr>\n",
       "      <th>points_in_wallet</th>\n",
       "      <td>0.000682</td>\n",
       "      <td>0.004522</td>\n",
       "      <td>-0.003954</td>\n",
       "      <td>0.084465</td>\n",
       "      <td>-0.046283</td>\n",
       "      <td>1.000000</td>\n",
       "      <td>-0.313905</td>\n",
       "    </tr>\n",
       "    <tr>\n",
       "      <th>churn_risk_score</th>\n",
       "      <td>0.002400</td>\n",
       "      <td>0.023056</td>\n",
       "      <td>-0.027558</td>\n",
       "      <td>-0.363009</td>\n",
       "      <td>0.210584</td>\n",
       "      <td>-0.313905</td>\n",
       "      <td>1.000000</td>\n",
       "    </tr>\n",
       "  </tbody>\n",
       "</table>\n",
       "</div>"
      ],
      "text/plain": [
       "                               age  days_since_last_login  avg_time_spent  \\\n",
       "age                       1.000000              -0.003306       -0.000576   \n",
       "days_since_last_login    -0.003306               1.000000       -0.092630   \n",
       "avg_time_spent           -0.000576              -0.092630        1.000000   \n",
       "avg_transaction_value     0.000015              -0.012135        0.023594   \n",
       "avg_frequency_login_days -0.001340               0.013287        0.000394   \n",
       "points_in_wallet          0.000682               0.004522       -0.003954   \n",
       "churn_risk_score          0.002400               0.023056       -0.027558   \n",
       "\n",
       "                          avg_transaction_value  avg_frequency_login_days  \\\n",
       "age                                    0.000015                 -0.001340   \n",
       "days_since_last_login                 -0.012135                  0.013287   \n",
       "avg_time_spent                         0.023594                  0.000394   \n",
       "avg_transaction_value                  1.000000                 -0.131829   \n",
       "avg_frequency_login_days              -0.131829                  1.000000   \n",
       "points_in_wallet                       0.084465                 -0.046283   \n",
       "churn_risk_score                      -0.363009                  0.210584   \n",
       "\n",
       "                          points_in_wallet  churn_risk_score  \n",
       "age                               0.000682          0.002400  \n",
       "days_since_last_login             0.004522          0.023056  \n",
       "avg_time_spent                   -0.003954         -0.027558  \n",
       "avg_transaction_value             0.084465         -0.363009  \n",
       "avg_frequency_login_days         -0.046283          0.210584  \n",
       "points_in_wallet                  1.000000         -0.313905  \n",
       "churn_risk_score                 -0.313905          1.000000  "
      ]
     },
     "execution_count": 41,
     "metadata": {},
     "output_type": "execute_result"
    }
   ],
   "source": [
    "train_data.corr()"
   ]
  },
  {
   "cell_type": "code",
   "execution_count": 42,
   "id": "allied-nicholas",
   "metadata": {
    "execution": {
     "iopub.execute_input": "2021-05-06T08:52:53.888682Z",
     "iopub.status.busy": "2021-05-06T08:52:53.887926Z",
     "iopub.status.idle": "2021-05-06T08:52:53.891561Z",
     "shell.execute_reply": "2021-05-06T08:52:53.892126Z"
    },
    "papermill": {
     "duration": 0.084154,
     "end_time": "2021-05-06T08:52:53.892314",
     "exception": false,
     "start_time": "2021-05-06T08:52:53.808160",
     "status": "completed"
    },
    "tags": []
   },
   "outputs": [],
   "source": [
    "def FunctionAnova(inpData, TargetVariable, CategoricalPredictorList):\n",
    "    from scipy.stats import f_oneway\n",
    "\n",
    "    # Creating an empty list of final selected predictors\n",
    "    SelectedPredictors=[]\n",
    "    \n",
    "    print('##### ANOVA Results ##### \\n')\n",
    "    for predictor in CategoricalPredictorList:\n",
    "        CategoryGroupLists=inpData.groupby(predictor)[TargetVariable].apply(list)\n",
    "        AnovaResults = f_oneway(*CategoryGroupLists)\n",
    "        \n",
    "        # If the ANOVA P-Value is <0.05, that means we reject H0\n",
    "        if (AnovaResults[1] < 0.05):\n",
    "            print(predictor, 'is correlated with', TargetVariable, '| P-Value:', AnovaResults[1])\n",
    "            SelectedPredictors.append(predictor)\n",
    "        else:\n",
    "            print(predictor, 'is NOT correlated with', TargetVariable, '| P-Value:', AnovaResults[1])\n",
    "    \n",
    "    return(SelectedPredictors)"
   ]
  },
  {
   "cell_type": "code",
   "execution_count": 43,
   "id": "convenient-nutrition",
   "metadata": {
    "execution": {
     "iopub.execute_input": "2021-05-06T08:52:54.042058Z",
     "iopub.status.busy": "2021-05-06T08:52:54.041324Z",
     "iopub.status.idle": "2021-05-06T08:52:54.301573Z",
     "shell.execute_reply": "2021-05-06T08:52:54.300958Z"
    },
    "papermill": {
     "duration": 0.33867,
     "end_time": "2021-05-06T08:52:54.301727",
     "exception": false,
     "start_time": "2021-05-06T08:52:53.963057",
     "status": "completed"
    },
    "tags": []
   },
   "outputs": [
    {
     "name": "stdout",
     "output_type": "stream",
     "text": [
      "##### ANOVA Results ##### \n",
      "\n",
      "gender is NOT correlated with churn_risk_score | P-Value: 0.7482755930377535\n",
      "region_category is correlated with churn_risk_score | P-Value: 6.625172529955838e-11\n",
      "membership_category is correlated with churn_risk_score | P-Value: 0.0\n",
      "joined_through_referral is correlated with churn_risk_score | P-Value: 5.991549021353097e-24\n",
      "preferred_offer_types is correlated with churn_risk_score | P-Value: 1.8615166638212552e-36\n",
      "medium_of_operation is correlated with churn_risk_score | P-Value: 3.4702653469698536e-11\n",
      "internet_option is NOT correlated with churn_risk_score | P-Value: 0.9153465291596974\n",
      "used_special_discount is correlated with churn_risk_score | P-Value: 0.03784064933682765\n",
      "offer_application_preference is correlated with churn_risk_score | P-Value: 1.6391044936172288e-11\n",
      "past_complaint is correlated with churn_risk_score | P-Value: 0.02084965837190241\n",
      "complaint_status is NOT correlated with churn_risk_score | P-Value: 0.1125659546335762\n",
      "feedback is correlated with churn_risk_score | P-Value: 0.0\n"
     ]
    },
    {
     "data": {
      "text/plain": [
       "['region_category',\n",
       " 'membership_category',\n",
       " 'joined_through_referral',\n",
       " 'preferred_offer_types',\n",
       " 'medium_of_operation',\n",
       " 'used_special_discount',\n",
       " 'offer_application_preference',\n",
       " 'past_complaint',\n",
       " 'feedback']"
      ]
     },
     "execution_count": 43,
     "metadata": {},
     "output_type": "execute_result"
    }
   ],
   "source": [
    "CategoricalPredictorList=['gender', 'region_category', 'membership_category',\n",
    "        'joined_through_referral', 'preferred_offer_types',\n",
    "       'medium_of_operation', 'internet_option' ,\n",
    "        'used_special_discount',\n",
    "       'offer_application_preference', 'past_complaint', 'complaint_status',\n",
    "       'feedback']\n",
    "FunctionAnova(inpData=train_data, \n",
    "              TargetVariable='churn_risk_score', \n",
    "              CategoricalPredictorList=CategoricalPredictorList)"
   ]
  },
  {
   "cell_type": "markdown",
   "id": "conceptual-burton",
   "metadata": {
    "papermill": {
     "duration": 0.069645,
     "end_time": "2021-05-06T08:52:54.441112",
     "exception": false,
     "start_time": "2021-05-06T08:52:54.371467",
     "status": "completed"
    },
    "tags": []
   },
   "source": [
    "### Selected Features:"
   ]
  },
  {
   "cell_type": "code",
   "execution_count": 44,
   "id": "monetary-character",
   "metadata": {
    "execution": {
     "iopub.execute_input": "2021-05-06T08:52:54.590695Z",
     "iopub.status.busy": "2021-05-06T08:52:54.589960Z",
     "iopub.status.idle": "2021-05-06T08:52:54.602149Z",
     "shell.execute_reply": "2021-05-06T08:52:54.601466Z"
    },
    "papermill": {
     "duration": 0.091455,
     "end_time": "2021-05-06T08:52:54.602299",
     "exception": false,
     "start_time": "2021-05-06T08:52:54.510844",
     "status": "completed"
    },
    "tags": []
   },
   "outputs": [
    {
     "data": {
      "text/plain": [
       "Index(['avg_transaction_value', 'avg_frequency_login_days', 'points_in_wallet',\n",
       "       'region_category', 'membership_category', 'joined_through_referral',\n",
       "       'preferred_offer_types', 'medium_of_operation', 'used_special_discount',\n",
       "       'offer_application_preference', 'past_complaint', 'feedback'],\n",
       "      dtype='object')"
      ]
     },
     "execution_count": 44,
     "metadata": {},
     "output_type": "execute_result"
    }
   ],
   "source": [
    "Selected_columns = ['avg_transaction_value','avg_frequency_login_days','points_in_wallet','region_category','membership_category',\n",
    "                    'joined_through_referral','preferred_offer_types','medium_of_operation',\n",
    "                    'used_special_discount','offer_application_preference','past_complaint','feedback','churn_risk_score']\n",
    "for_test = ['avg_transaction_value','avg_frequency_login_days','points_in_wallet','region_category','membership_category',\n",
    "                    'joined_through_referral','preferred_offer_types','medium_of_operation',\n",
    "                    'used_special_discount','offer_application_preference','past_complaint','feedback']\n",
    "dataforml = train_data[Selected_columns]\n",
    "dataforml['churn_risk_score'] = dataforml['churn_risk_score'].astype('int')\n",
    "X_test = x_test[for_test]\n",
    "X_test.columns"
   ]
  },
  {
   "cell_type": "markdown",
   "id": "driven-terminology",
   "metadata": {
    "papermill": {
     "duration": 0.069909,
     "end_time": "2021-05-06T08:52:54.742491",
     "exception": false,
     "start_time": "2021-05-06T08:52:54.672582",
     "status": "completed"
    },
    "tags": []
   },
   "source": [
    "# Separation of data:"
   ]
  },
  {
   "cell_type": "code",
   "execution_count": 45,
   "id": "fundamental-brighton",
   "metadata": {
    "execution": {
     "iopub.execute_input": "2021-05-06T08:52:54.894433Z",
     "iopub.status.busy": "2021-05-06T08:52:54.893657Z",
     "iopub.status.idle": "2021-05-06T08:52:54.896851Z",
     "shell.execute_reply": "2021-05-06T08:52:54.896277Z"
    },
    "papermill": {
     "duration": 0.084358,
     "end_time": "2021-05-06T08:52:54.897034",
     "exception": false,
     "start_time": "2021-05-06T08:52:54.812676",
     "status": "completed"
    },
    "tags": []
   },
   "outputs": [],
   "source": [
    "#define x_train and y_train\n",
    "x_train = dataforml.iloc[:,:12]   \n",
    "y_train = dataforml.iloc[:,-1:]              "
   ]
  },
  {
   "cell_type": "markdown",
   "id": "optical-storage",
   "metadata": {
    "papermill": {
     "duration": 0.072423,
     "end_time": "2021-05-06T08:52:55.041431",
     "exception": false,
     "start_time": "2021-05-06T08:52:54.969008",
     "status": "completed"
    },
    "tags": []
   },
   "source": [
    "# Encoding:"
   ]
  },
  {
   "cell_type": "code",
   "execution_count": 46,
   "id": "supreme-demand",
   "metadata": {
    "execution": {
     "iopub.execute_input": "2021-05-06T08:52:55.204807Z",
     "iopub.status.busy": "2021-05-06T08:52:55.204055Z",
     "iopub.status.idle": "2021-05-06T08:53:05.126585Z",
     "shell.execute_reply": "2021-05-06T08:53:05.125795Z"
    },
    "papermill": {
     "duration": 10.014976,
     "end_time": "2021-05-06T08:53:05.126751",
     "exception": false,
     "start_time": "2021-05-06T08:52:55.111775",
     "status": "completed"
    },
    "tags": []
   },
   "outputs": [
    {
     "name": "stdout",
     "output_type": "stream",
     "text": [
      "Collecting feature-engine\r\n",
      "  Downloading feature_engine-1.0.2-py2.py3-none-any.whl (152 kB)\r\n",
      "\u001b[K     |████████████████████████████████| 152 kB 2.9 MB/s \r\n",
      "\u001b[?25hRequirement already satisfied: numpy>=1.18.2 in /opt/conda/lib/python3.7/site-packages (from feature-engine) (1.19.5)\r\n",
      "Requirement already satisfied: scipy>=1.4.1 in /opt/conda/lib/python3.7/site-packages (from feature-engine) (1.5.4)\r\n",
      "Requirement already satisfied: pandas>=1.0.3 in /opt/conda/lib/python3.7/site-packages (from feature-engine) (1.2.2)\r\n",
      "Requirement already satisfied: statsmodels>=0.11.1 in /opt/conda/lib/python3.7/site-packages (from feature-engine) (0.12.2)\r\n",
      "Requirement already satisfied: scikit-learn>=0.22.2 in /opt/conda/lib/python3.7/site-packages (from feature-engine) (0.24.1)\r\n",
      "Requirement already satisfied: python-dateutil>=2.7.3 in /opt/conda/lib/python3.7/site-packages (from pandas>=1.0.3->feature-engine) (2.8.1)\r\n",
      "Requirement already satisfied: pytz>=2017.3 in /opt/conda/lib/python3.7/site-packages (from pandas>=1.0.3->feature-engine) (2021.1)\r\n",
      "Requirement already satisfied: six>=1.5 in /opt/conda/lib/python3.7/site-packages (from python-dateutil>=2.7.3->pandas>=1.0.3->feature-engine) (1.15.0)\r\n",
      "Requirement already satisfied: joblib>=0.11 in /opt/conda/lib/python3.7/site-packages (from scikit-learn>=0.22.2->feature-engine) (1.0.1)\r\n",
      "Requirement already satisfied: threadpoolctl>=2.0.0 in /opt/conda/lib/python3.7/site-packages (from scikit-learn>=0.22.2->feature-engine) (2.1.0)\r\n",
      "Requirement already satisfied: patsy>=0.5 in /opt/conda/lib/python3.7/site-packages (from statsmodels>=0.11.1->feature-engine) (0.5.1)\r\n",
      "Installing collected packages: feature-engine\r\n",
      "Successfully installed feature-engine-1.0.2\r\n"
     ]
    },
    {
     "data": {
      "text/html": [
       "<div>\n",
       "<style scoped>\n",
       "    .dataframe tbody tr th:only-of-type {\n",
       "        vertical-align: middle;\n",
       "    }\n",
       "\n",
       "    .dataframe tbody tr th {\n",
       "        vertical-align: top;\n",
       "    }\n",
       "\n",
       "    .dataframe thead th {\n",
       "        text-align: right;\n",
       "    }\n",
       "</style>\n",
       "<table border=\"1\" class=\"dataframe\">\n",
       "  <thead>\n",
       "    <tr style=\"text-align: right;\">\n",
       "      <th></th>\n",
       "      <th>avg_transaction_value</th>\n",
       "      <th>avg_frequency_login_days</th>\n",
       "      <th>points_in_wallet</th>\n",
       "      <th>region_category</th>\n",
       "      <th>membership_category</th>\n",
       "      <th>joined_through_referral</th>\n",
       "      <th>preferred_offer_types</th>\n",
       "      <th>medium_of_operation</th>\n",
       "      <th>used_special_discount</th>\n",
       "      <th>offer_application_preference</th>\n",
       "      <th>past_complaint</th>\n",
       "      <th>feedback</th>\n",
       "    </tr>\n",
       "  </thead>\n",
       "  <tbody>\n",
       "    <tr>\n",
       "      <th>0</th>\n",
       "      <td>53005.25</td>\n",
       "      <td>17.0</td>\n",
       "      <td>781.750000</td>\n",
       "      <td>4549</td>\n",
       "      <td>4202</td>\n",
       "      <td>15354</td>\n",
       "      <td>11977</td>\n",
       "      <td>5230</td>\n",
       "      <td>19718</td>\n",
       "      <td>19783</td>\n",
       "      <td>18007</td>\n",
       "      <td>1345</td>\n",
       "    </tr>\n",
       "    <tr>\n",
       "      <th>1</th>\n",
       "      <td>12838.38</td>\n",
       "      <td>10.0</td>\n",
       "      <td>687.582219</td>\n",
       "      <td>12315</td>\n",
       "      <td>4308</td>\n",
       "      <td>5292</td>\n",
       "      <td>11977</td>\n",
       "      <td>13476</td>\n",
       "      <td>19718</td>\n",
       "      <td>16046</td>\n",
       "      <td>17822</td>\n",
       "      <td>1320</td>\n",
       "    </tr>\n",
       "    <tr>\n",
       "      <th>2</th>\n",
       "      <td>21027.00</td>\n",
       "      <td>22.0</td>\n",
       "      <td>500.690000</td>\n",
       "      <td>13702</td>\n",
       "      <td>7466</td>\n",
       "      <td>15183</td>\n",
       "      <td>11977</td>\n",
       "      <td>13476</td>\n",
       "      <td>16111</td>\n",
       "      <td>19783</td>\n",
       "      <td>17822</td>\n",
       "      <td>6060</td>\n",
       "    </tr>\n",
       "    <tr>\n",
       "      <th>3</th>\n",
       "      <td>25239.56</td>\n",
       "      <td>6.0</td>\n",
       "      <td>567.660000</td>\n",
       "      <td>12315</td>\n",
       "      <td>7466</td>\n",
       "      <td>15183</td>\n",
       "      <td>11977</td>\n",
       "      <td>13476</td>\n",
       "      <td>16111</td>\n",
       "      <td>19783</td>\n",
       "      <td>17822</td>\n",
       "      <td>6060</td>\n",
       "    </tr>\n",
       "    <tr>\n",
       "      <th>4</th>\n",
       "      <td>24483.66</td>\n",
       "      <td>16.0</td>\n",
       "      <td>663.060000</td>\n",
       "      <td>12315</td>\n",
       "      <td>7466</td>\n",
       "      <td>15354</td>\n",
       "      <td>11860</td>\n",
       "      <td>13444</td>\n",
       "      <td>16111</td>\n",
       "      <td>19783</td>\n",
       "      <td>17822</td>\n",
       "      <td>6060</td>\n",
       "    </tr>\n",
       "  </tbody>\n",
       "</table>\n",
       "</div>"
      ],
      "text/plain": [
       "   avg_transaction_value  avg_frequency_login_days  points_in_wallet  \\\n",
       "0               53005.25                      17.0        781.750000   \n",
       "1               12838.38                      10.0        687.582219   \n",
       "2               21027.00                      22.0        500.690000   \n",
       "3               25239.56                       6.0        567.660000   \n",
       "4               24483.66                      16.0        663.060000   \n",
       "\n",
       "   region_category  membership_category  joined_through_referral  \\\n",
       "0             4549                 4202                    15354   \n",
       "1            12315                 4308                     5292   \n",
       "2            13702                 7466                    15183   \n",
       "3            12315                 7466                    15183   \n",
       "4            12315                 7466                    15354   \n",
       "\n",
       "   preferred_offer_types  medium_of_operation  used_special_discount  \\\n",
       "0                  11977                 5230                  19718   \n",
       "1                  11977                13476                  19718   \n",
       "2                  11977                13476                  16111   \n",
       "3                  11977                13476                  16111   \n",
       "4                  11860                13444                  16111   \n",
       "\n",
       "   offer_application_preference  past_complaint  feedback  \n",
       "0                         19783           18007      1345  \n",
       "1                         16046           17822      1320  \n",
       "2                         19783           17822      6060  \n",
       "3                         19783           17822      6060  \n",
       "4                         19783           17822      6060  "
      ]
     },
     "execution_count": 46,
     "metadata": {},
     "output_type": "execute_result"
    }
   ],
   "source": [
    "!pip install feature-engine\n",
    "from feature_engine.encoding import CountFrequencyEncoder\n",
    "\n",
    "encoder = CountFrequencyEncoder(encoding_method='count',variables=None)\n",
    "X_train = encoder.fit_transform(x_train)\n",
    "X_train.head()"
   ]
  },
  {
   "cell_type": "code",
   "execution_count": 47,
   "id": "referenced-composer",
   "metadata": {
    "execution": {
     "iopub.execute_input": "2021-05-06T08:53:05.282946Z",
     "iopub.status.busy": "2021-05-06T08:53:05.281170Z",
     "iopub.status.idle": "2021-05-06T08:53:05.365713Z",
     "shell.execute_reply": "2021-05-06T08:53:05.365151Z"
    },
    "papermill": {
     "duration": 0.164012,
     "end_time": "2021-05-06T08:53:05.365888",
     "exception": false,
     "start_time": "2021-05-06T08:53:05.201876",
     "status": "completed"
    },
    "tags": []
   },
   "outputs": [
    {
     "data": {
      "text/html": [
       "<div>\n",
       "<style scoped>\n",
       "    .dataframe tbody tr th:only-of-type {\n",
       "        vertical-align: middle;\n",
       "    }\n",
       "\n",
       "    .dataframe tbody tr th {\n",
       "        vertical-align: top;\n",
       "    }\n",
       "\n",
       "    .dataframe thead th {\n",
       "        text-align: right;\n",
       "    }\n",
       "</style>\n",
       "<table border=\"1\" class=\"dataframe\">\n",
       "  <thead>\n",
       "    <tr style=\"text-align: right;\">\n",
       "      <th></th>\n",
       "      <th>avg_transaction_value</th>\n",
       "      <th>avg_frequency_login_days</th>\n",
       "      <th>points_in_wallet</th>\n",
       "      <th>region_category</th>\n",
       "      <th>membership_category</th>\n",
       "      <th>joined_through_referral</th>\n",
       "      <th>preferred_offer_types</th>\n",
       "      <th>medium_of_operation</th>\n",
       "      <th>used_special_discount</th>\n",
       "      <th>offer_application_preference</th>\n",
       "      <th>past_complaint</th>\n",
       "      <th>feedback</th>\n",
       "    </tr>\n",
       "  </thead>\n",
       "  <tbody>\n",
       "    <tr>\n",
       "      <th>0</th>\n",
       "      <td>40721.44</td>\n",
       "      <td>7.000000</td>\n",
       "      <td>733.830000</td>\n",
       "      <td>4549</td>\n",
       "      <td>4308</td>\n",
       "      <td>15354</td>\n",
       "      <td>11716</td>\n",
       "      <td>13444</td>\n",
       "      <td>19718</td>\n",
       "      <td>16046</td>\n",
       "      <td>18007</td>\n",
       "      <td>6152</td>\n",
       "    </tr>\n",
       "    <tr>\n",
       "      <th>1</th>\n",
       "      <td>9644.40</td>\n",
       "      <td>9.000000</td>\n",
       "      <td>726.000000</td>\n",
       "      <td>4549</td>\n",
       "      <td>6574</td>\n",
       "      <td>15354</td>\n",
       "      <td>11716</td>\n",
       "      <td>13476</td>\n",
       "      <td>19718</td>\n",
       "      <td>16046</td>\n",
       "      <td>18007</td>\n",
       "      <td>6060</td>\n",
       "    </tr>\n",
       "    <tr>\n",
       "      <th>2</th>\n",
       "      <td>3693.25</td>\n",
       "      <td>21.000000</td>\n",
       "      <td>713.780000</td>\n",
       "      <td>13702</td>\n",
       "      <td>5806</td>\n",
       "      <td>15354</td>\n",
       "      <td>11977</td>\n",
       "      <td>3679</td>\n",
       "      <td>19718</td>\n",
       "      <td>16046</td>\n",
       "      <td>17822</td>\n",
       "      <td>6072</td>\n",
       "    </tr>\n",
       "    <tr>\n",
       "      <th>3</th>\n",
       "      <td>36809.56</td>\n",
       "      <td>11.000000</td>\n",
       "      <td>744.970000</td>\n",
       "      <td>13702</td>\n",
       "      <td>5806</td>\n",
       "      <td>15183</td>\n",
       "      <td>11860</td>\n",
       "      <td>5230</td>\n",
       "      <td>19718</td>\n",
       "      <td>16046</td>\n",
       "      <td>17822</td>\n",
       "      <td>6096</td>\n",
       "    </tr>\n",
       "    <tr>\n",
       "      <th>4</th>\n",
       "      <td>40675.86</td>\n",
       "      <td>8.000000</td>\n",
       "      <td>299.048351</td>\n",
       "      <td>13702</td>\n",
       "      <td>7466</td>\n",
       "      <td>15183</td>\n",
       "      <td>11716</td>\n",
       "      <td>13444</td>\n",
       "      <td>16111</td>\n",
       "      <td>19783</td>\n",
       "      <td>17822</td>\n",
       "      <td>6060</td>\n",
       "    </tr>\n",
       "    <tr>\n",
       "      <th>...</th>\n",
       "      <td>...</td>\n",
       "      <td>...</td>\n",
       "      <td>...</td>\n",
       "      <td>...</td>\n",
       "      <td>...</td>\n",
       "      <td>...</td>\n",
       "      <td>...</td>\n",
       "      <td>...</td>\n",
       "      <td>...</td>\n",
       "      <td>...</td>\n",
       "      <td>...</td>\n",
       "      <td>...</td>\n",
       "    </tr>\n",
       "    <tr>\n",
       "      <th>19914</th>\n",
       "      <td>46279.35</td>\n",
       "      <td>18.000000</td>\n",
       "      <td>708.120000</td>\n",
       "      <td>5263</td>\n",
       "      <td>6574</td>\n",
       "      <td>15354</td>\n",
       "      <td>11716</td>\n",
       "      <td>13476</td>\n",
       "      <td>16111</td>\n",
       "      <td>19783</td>\n",
       "      <td>18007</td>\n",
       "      <td>6152</td>\n",
       "    </tr>\n",
       "    <tr>\n",
       "      <th>19915</th>\n",
       "      <td>23466.26</td>\n",
       "      <td>16.162214</td>\n",
       "      <td>574.340000</td>\n",
       "      <td>4549</td>\n",
       "      <td>7466</td>\n",
       "      <td>15183</td>\n",
       "      <td>11716</td>\n",
       "      <td>13476</td>\n",
       "      <td>16111</td>\n",
       "      <td>19783</td>\n",
       "      <td>18007</td>\n",
       "      <td>6072</td>\n",
       "    </tr>\n",
       "    <tr>\n",
       "      <th>19916</th>\n",
       "      <td>17903.75</td>\n",
       "      <td>24.000000</td>\n",
       "      <td>564.300000</td>\n",
       "      <td>13702</td>\n",
       "      <td>7466</td>\n",
       "      <td>15354</td>\n",
       "      <td>11860</td>\n",
       "      <td>13476</td>\n",
       "      <td>16111</td>\n",
       "      <td>19783</td>\n",
       "      <td>17822</td>\n",
       "      <td>6072</td>\n",
       "    </tr>\n",
       "    <tr>\n",
       "      <th>19917</th>\n",
       "      <td>14057.09</td>\n",
       "      <td>22.000000</td>\n",
       "      <td>606.340000</td>\n",
       "      <td>12315</td>\n",
       "      <td>5806</td>\n",
       "      <td>15183</td>\n",
       "      <td>11860</td>\n",
       "      <td>13444</td>\n",
       "      <td>16111</td>\n",
       "      <td>19783</td>\n",
       "      <td>18007</td>\n",
       "      <td>6060</td>\n",
       "    </tr>\n",
       "    <tr>\n",
       "      <th>19918</th>\n",
       "      <td>36786.44</td>\n",
       "      <td>16.162214</td>\n",
       "      <td>1193.689813</td>\n",
       "      <td>13702</td>\n",
       "      <td>4308</td>\n",
       "      <td>15183</td>\n",
       "      <td>11977</td>\n",
       "      <td>3679</td>\n",
       "      <td>16111</td>\n",
       "      <td>19783</td>\n",
       "      <td>17822</td>\n",
       "      <td>6096</td>\n",
       "    </tr>\n",
       "  </tbody>\n",
       "</table>\n",
       "<p>19919 rows × 12 columns</p>\n",
       "</div>"
      ],
      "text/plain": [
       "       avg_transaction_value  avg_frequency_login_days  points_in_wallet  \\\n",
       "0                   40721.44                  7.000000        733.830000   \n",
       "1                    9644.40                  9.000000        726.000000   \n",
       "2                    3693.25                 21.000000        713.780000   \n",
       "3                   36809.56                 11.000000        744.970000   \n",
       "4                   40675.86                  8.000000        299.048351   \n",
       "...                      ...                       ...               ...   \n",
       "19914               46279.35                 18.000000        708.120000   \n",
       "19915               23466.26                 16.162214        574.340000   \n",
       "19916               17903.75                 24.000000        564.300000   \n",
       "19917               14057.09                 22.000000        606.340000   \n",
       "19918               36786.44                 16.162214       1193.689813   \n",
       "\n",
       "       region_category  membership_category  joined_through_referral  \\\n",
       "0                 4549                 4308                    15354   \n",
       "1                 4549                 6574                    15354   \n",
       "2                13702                 5806                    15354   \n",
       "3                13702                 5806                    15183   \n",
       "4                13702                 7466                    15183   \n",
       "...                ...                  ...                      ...   \n",
       "19914             5263                 6574                    15354   \n",
       "19915             4549                 7466                    15183   \n",
       "19916            13702                 7466                    15354   \n",
       "19917            12315                 5806                    15183   \n",
       "19918            13702                 4308                    15183   \n",
       "\n",
       "       preferred_offer_types  medium_of_operation  used_special_discount  \\\n",
       "0                      11716                13444                  19718   \n",
       "1                      11716                13476                  19718   \n",
       "2                      11977                 3679                  19718   \n",
       "3                      11860                 5230                  19718   \n",
       "4                      11716                13444                  16111   \n",
       "...                      ...                  ...                    ...   \n",
       "19914                  11716                13476                  16111   \n",
       "19915                  11716                13476                  16111   \n",
       "19916                  11860                13476                  16111   \n",
       "19917                  11860                13444                  16111   \n",
       "19918                  11977                 3679                  16111   \n",
       "\n",
       "       offer_application_preference  past_complaint  feedback  \n",
       "0                             16046           18007      6152  \n",
       "1                             16046           18007      6060  \n",
       "2                             16046           17822      6072  \n",
       "3                             16046           17822      6096  \n",
       "4                             19783           17822      6060  \n",
       "...                             ...             ...       ...  \n",
       "19914                         19783           18007      6152  \n",
       "19915                         19783           18007      6072  \n",
       "19916                         19783           17822      6072  \n",
       "19917                         19783           18007      6060  \n",
       "19918                         19783           17822      6096  \n",
       "\n",
       "[19919 rows x 12 columns]"
      ]
     },
     "execution_count": 47,
     "metadata": {},
     "output_type": "execute_result"
    }
   ],
   "source": [
    "X_test = encoder.transform(X_test)\n",
    "X_test"
   ]
  },
  {
   "cell_type": "markdown",
   "id": "likely-learning",
   "metadata": {
    "papermill": {
     "duration": 0.075519,
     "end_time": "2021-05-06T08:53:05.516909",
     "exception": false,
     "start_time": "2021-05-06T08:53:05.441390",
     "status": "completed"
    },
    "tags": []
   },
   "source": [
    "## Model:"
   ]
  },
  {
   "cell_type": "code",
   "execution_count": 48,
   "id": "laughing-advancement",
   "metadata": {
    "execution": {
     "iopub.execute_input": "2021-05-06T08:53:05.673187Z",
     "iopub.status.busy": "2021-05-06T08:53:05.672398Z",
     "iopub.status.idle": "2021-05-06T08:53:05.859931Z",
     "shell.execute_reply": "2021-05-06T08:53:05.859259Z"
    },
    "papermill": {
     "duration": 0.268347,
     "end_time": "2021-05-06T08:53:05.860101",
     "exception": false,
     "start_time": "2021-05-06T08:53:05.591754",
     "status": "completed"
    },
    "tags": []
   },
   "outputs": [
    {
     "data": {
      "text/plain": [
       "DecisionTreeClassifier(max_depth=9)"
      ]
     },
     "execution_count": 48,
     "metadata": {},
     "output_type": "execute_result"
    }
   ],
   "source": [
    "#score = 100 x metrics.f1_score(actual, predicted, average=\"macro\")\n",
    "from sklearn import tree , metrics , ensemble , linear_model\n",
    "from sklearn.metrics import f1_score\n",
    "#ds = ensemble.RandomForestClassifier(max_depth=9)      #9,800\n",
    "ds = tree.DecisionTreeClassifier(max_depth=9)\n",
    "ds.fit(X_train,y_train)\n"
   ]
  },
  {
   "cell_type": "code",
   "execution_count": 49,
   "id": "criminal-acquisition",
   "metadata": {
    "execution": {
     "iopub.execute_input": "2021-05-06T08:53:06.021590Z",
     "iopub.status.busy": "2021-05-06T08:53:06.020758Z",
     "iopub.status.idle": "2021-05-06T08:53:06.030654Z",
     "shell.execute_reply": "2021-05-06T08:53:06.029948Z"
    },
    "papermill": {
     "duration": 0.09553,
     "end_time": "2021-05-06T08:53:06.030810",
     "exception": false,
     "start_time": "2021-05-06T08:53:05.935280",
     "status": "completed"
    },
    "tags": []
   },
   "outputs": [],
   "source": [
    "train_pred = ds.predict(X_train)"
   ]
  },
  {
   "cell_type": "code",
   "execution_count": 50,
   "id": "mediterranean-pharmaceutical",
   "metadata": {
    "execution": {
     "iopub.execute_input": "2021-05-06T08:53:06.187194Z",
     "iopub.status.busy": "2021-05-06T08:53:06.186486Z",
     "iopub.status.idle": "2021-05-06T08:53:06.209341Z",
     "shell.execute_reply": "2021-05-06T08:53:06.208651Z"
    },
    "papermill": {
     "duration": 0.103745,
     "end_time": "2021-05-06T08:53:06.209503",
     "exception": false,
     "start_time": "2021-05-06T08:53:06.105758",
     "status": "completed"
    },
    "tags": []
   },
   "outputs": [
    {
     "data": {
      "text/plain": [
       "80.20309730653038"
      ]
     },
     "execution_count": 50,
     "metadata": {},
     "output_type": "execute_result"
    }
   ],
   "source": [
    "score =  100 * metrics.f1_score(y_train, train_pred, average=\"macro\")\n",
    "score"
   ]
  },
  {
   "cell_type": "code",
   "execution_count": 51,
   "id": "arabic-friend",
   "metadata": {
    "execution": {
     "iopub.execute_input": "2021-05-06T08:53:06.369334Z",
     "iopub.status.busy": "2021-05-06T08:53:06.367836Z",
     "iopub.status.idle": "2021-05-06T08:53:06.376100Z",
     "shell.execute_reply": "2021-05-06T08:53:06.375317Z"
    },
    "papermill": {
     "duration": 0.091159,
     "end_time": "2021-05-06T08:53:06.376263",
     "exception": false,
     "start_time": "2021-05-06T08:53:06.285104",
     "status": "completed"
    },
    "tags": []
   },
   "outputs": [],
   "source": [
    "test_pred = ds.predict(X_test)"
   ]
  },
  {
   "cell_type": "code",
   "execution_count": 52,
   "id": "unexpected-economy",
   "metadata": {
    "execution": {
     "iopub.execute_input": "2021-05-06T08:53:06.537679Z",
     "iopub.status.busy": "2021-05-06T08:53:06.536932Z",
     "iopub.status.idle": "2021-05-06T08:53:06.607783Z",
     "shell.execute_reply": "2021-05-06T08:53:06.606931Z"
    },
    "papermill": {
     "duration": 0.154217,
     "end_time": "2021-05-06T08:53:06.607945",
     "exception": false,
     "start_time": "2021-05-06T08:53:06.453728",
     "status": "completed"
    },
    "tags": []
   },
   "outputs": [],
   "source": [
    "ds_subm.index = X_test.index\n",
    "ds_subm['churn_risk_score'] = test_pred\n",
    "ds_subm.to_csv('dectre_sub_dep9.csv',index = False)"
   ]
  },
  {
   "cell_type": "code",
   "execution_count": 53,
   "id": "speaking-citizen",
   "metadata": {
    "execution": {
     "iopub.execute_input": "2021-05-06T08:53:06.773703Z",
     "iopub.status.busy": "2021-05-06T08:53:06.772908Z",
     "iopub.status.idle": "2021-05-06T08:53:06.777548Z",
     "shell.execute_reply": "2021-05-06T08:53:06.776908Z"
    },
    "papermill": {
     "duration": 0.092925,
     "end_time": "2021-05-06T08:53:06.777695",
     "exception": false,
     "start_time": "2021-05-06T08:53:06.684770",
     "status": "completed"
    },
    "tags": []
   },
   "outputs": [
    {
     "data": {
      "text/html": [
       "<div>\n",
       "<style scoped>\n",
       "    .dataframe tbody tr th:only-of-type {\n",
       "        vertical-align: middle;\n",
       "    }\n",
       "\n",
       "    .dataframe tbody tr th {\n",
       "        vertical-align: top;\n",
       "    }\n",
       "\n",
       "    .dataframe thead th {\n",
       "        text-align: right;\n",
       "    }\n",
       "</style>\n",
       "<table border=\"1\" class=\"dataframe\">\n",
       "  <thead>\n",
       "    <tr style=\"text-align: right;\">\n",
       "      <th></th>\n",
       "      <th>customer_id</th>\n",
       "      <th>churn_risk_score</th>\n",
       "    </tr>\n",
       "  </thead>\n",
       "  <tbody>\n",
       "    <tr>\n",
       "      <th>0</th>\n",
       "      <td>fffe43004900440031003700300030003400</td>\n",
       "      <td>3</td>\n",
       "    </tr>\n",
       "    <tr>\n",
       "      <th>1</th>\n",
       "      <td>fffe43004900440031003900370037003300</td>\n",
       "      <td>3</td>\n",
       "    </tr>\n",
       "    <tr>\n",
       "      <th>2</th>\n",
       "      <td>fffe43004900440034003800360037003000</td>\n",
       "      <td>3</td>\n",
       "    </tr>\n",
       "    <tr>\n",
       "      <th>3</th>\n",
       "      <td>fffe43004900440036003200370033003400</td>\n",
       "      <td>3</td>\n",
       "    </tr>\n",
       "    <tr>\n",
       "      <th>4</th>\n",
       "      <td>fffe43004900440035003000370031003900</td>\n",
       "      <td>5</td>\n",
       "    </tr>\n",
       "  </tbody>\n",
       "</table>\n",
       "</div>"
      ],
      "text/plain": [
       "                            customer_id  churn_risk_score\n",
       "0  fffe43004900440031003700300030003400                 3\n",
       "1  fffe43004900440031003900370037003300                 3\n",
       "2  fffe43004900440034003800360037003000                 3\n",
       "3  fffe43004900440036003200370033003400                 3\n",
       "4  fffe43004900440035003000370031003900                 5"
      ]
     },
     "execution_count": 53,
     "metadata": {},
     "output_type": "execute_result"
    }
   ],
   "source": [
    "ds_subm.head()"
   ]
  },
  {
   "cell_type": "markdown",
   "id": "departmental-polymer",
   "metadata": {
    "papermill": {
     "duration": 0.075848,
     "end_time": "2021-05-06T08:53:06.930502",
     "exception": false,
     "start_time": "2021-05-06T08:53:06.854654",
     "status": "completed"
    },
    "tags": []
   },
   "source": [
    "# so far max_depth 9 gives best result that is 76.31"
   ]
  },
  {
   "cell_type": "code",
   "execution_count": null,
   "id": "sitting-spotlight",
   "metadata": {
    "papermill": {
     "duration": 0.077601,
     "end_time": "2021-05-06T08:53:07.087503",
     "exception": false,
     "start_time": "2021-05-06T08:53:07.009902",
     "status": "completed"
    },
    "tags": []
   },
   "outputs": [],
   "source": []
  }
 ],
 "metadata": {
  "kernelspec": {
   "display_name": "Python 3",
   "language": "python",
   "name": "python3"
  },
  "language_info": {
   "codemirror_mode": {
    "name": "ipython",
    "version": 3
   },
   "file_extension": ".py",
   "mimetype": "text/x-python",
   "name": "python",
   "nbconvert_exporter": "python",
   "pygments_lexer": "ipython3",
   "version": "3.7.9"
  },
  "papermill": {
   "default_parameters": {},
   "duration": 36.340541,
   "end_time": "2021-05-06T08:53:08.277439",
   "environment_variables": {},
   "exception": null,
   "input_path": "__notebook__.ipynb",
   "output_path": "__notebook__.ipynb",
   "parameters": {},
   "start_time": "2021-05-06T08:52:31.936898",
   "version": "2.3.2"
  }
 },
 "nbformat": 4,
 "nbformat_minor": 5
}
